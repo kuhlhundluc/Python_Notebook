{
 "cells": [
  {
   "cell_type": "code",
   "execution_count": 1,
   "metadata": {},
   "outputs": [
    {
     "name": "stdout",
     "output_type": "stream",
     "text": [
      "Hello World!\n"
     ]
    }
   ],
   "source": [
    "print(\"Hello World!\")"
   ]
  },
  {
   "cell_type": "code",
   "execution_count": null,
   "metadata": {},
   "outputs": [],
   "source": [
    "\n"
   ]
  },
  {
   "cell_type": "code",
   "execution_count": 2,
   "metadata": {},
   "outputs": [
    {
     "data": {
      "text/plain": [
       "'C:\\\\Users\\\\jsabr\\\\Google Drive\\\\Python Notebook\\\\Crash Course in Python'"
      ]
     },
     "execution_count": 2,
     "metadata": {},
     "output_type": "execute_result"
    }
   ],
   "source": [
    "pwd"
   ]
  },
  {
   "cell_type": "code",
   "execution_count": 3,
   "metadata": {},
   "outputs": [
    {
     "name": "stdout",
     "output_type": "stream",
     "text": [
      " Volume in drive C is OS_Install\n",
      " Volume Serial Number is B8D3-F792\n",
      "\n",
      " Directory of C:\\Users\\jsabr\\Google Drive\\Python Notebook\\Crash Course in Python\n",
      "\n",
      "11/06/2018  10:21 AM    <DIR>          .\n",
      "11/06/2018  10:21 AM    <DIR>          ..\n",
      "11/06/2018  10:21 AM    <DIR>          .ipynb_checkpoints\n",
      "11/06/2018  10:21 AM    <DIR>          __pycache__\n",
      "10/23/2018  09:27 PM           167,518 alice.txt\n",
      "11/06/2018  10:21 AM    <DIR>          alien_invasion\n",
      "10/19/2018  09:37 PM               121 apostrophe.py\n",
      "10/23/2018  08:19 PM             2,263 car.py\n",
      "11/02/2018  10:40 AM           205,008 Crash Course in Python Notebook.ipynb\n",
      "10/23/2018  09:03 PM               125 file_reader.py\n",
      "10/24/2018  09:00 AM                 7 guest.txt\n",
      "10/18/2018  12:53 PM                23 hello_world.py\n",
      "10/23/2018  09:27 PM               251 name_function.py\n",
      "10/24/2018  09:51 AM                20 numbers.json\n",
      "10/23/2018  08:55 PM                38 pi_digits.txt\n",
      "10/23/2018  09:27 PM         1,040,000 pi_million_digits.txt\n",
      "10/22/2018  06:24 PM               227 pizza.py\n",
      "10/24/2018  08:56 AM               138 programming.txt\n",
      "10/25/2018  10:27 AM             1,300 random_walk.py\n",
      "10/23/2018  09:27 PM               968 rw_visual.py\n",
      "11/02/2018  10:35 AM            14,692 squares_plot.png\n",
      "10/23/2018  09:27 PM               560 test_name_function.py\n",
      "10/24/2018  10:01 AM                15 username.json\n",
      "              18 File(s)      1,433,274 bytes\n",
      "               5 Dir(s)  63,994,245,120 bytes free\n"
     ]
    }
   ],
   "source": [
    "ls"
   ]
  },
  {
   "cell_type": "code",
   "execution_count": 4,
   "metadata": {},
   "outputs": [
    {
     "name": "stdout",
     "output_type": "stream",
     "text": [
      "C:\\Users\\jsabr\\Google Drive\\Python Notebook\n"
     ]
    }
   ],
   "source": [
    "cd ..\n"
   ]
  },
  {
   "cell_type": "code",
   "execution_count": 5,
   "metadata": {},
   "outputs": [
    {
     "name": "stdout",
     "output_type": "stream",
     "text": [
      " Volume in drive C is OS_Install\n",
      " Volume Serial Number is B8D3-F792\n",
      "\n",
      " Directory of C:\\Users\\jsabr\\Google Drive\\Python Notebook\n",
      "\n",
      "01/24/2019  06:12 PM    <DIR>          .\n",
      "01/24/2019  06:12 PM    <DIR>          ..\n",
      "10/18/2018  12:53 PM               523 .hello_world.py.un~\n",
      "11/06/2018  10:21 AM    <DIR>          .ipynb_checkpoints\n",
      "11/06/2018  10:21 AM    <DIR>          Crash Course in Python\n",
      "01/23/2019  08:09 PM    <DIR>          Mastering Python\n",
      "11/13/2018  12:02 PM    <DIR>          Python for Everybody\n",
      "03/14/2018  10:35 AM           544,992 Python lab notebook in xkcd format (1).ipynb\n",
      "03/01/2018  10:44 AM           593,265 Python lab notebook in xkcd format (2).ipynb\n",
      "03/14/2018  10:35 AM           544,992 Python lab notebook in xkcd format (3).ipynb\n",
      "01/24/2019  06:12 PM           473,108 Python lab notebook in xkcd format.ipynb\n",
      "10/18/2018  08:50 AM               555 Python Notebook.ipynb\n",
      "10/18/2018  09:09 AM                 0 Python Syllabus.txt\n",
      "10/19/2018  03:07 PM               165 simple_message.py\n",
      "               8 File(s)      2,157,600 bytes\n",
      "               6 Dir(s)  63,994,245,120 bytes free\n"
     ]
    }
   ],
   "source": [
    "ls\n"
   ]
  },
  {
   "cell_type": "code",
   "execution_count": 6,
   "metadata": {},
   "outputs": [
    {
     "ename": "SyntaxError",
     "evalue": "invalid syntax (<ipython-input-6-ce27a7b7a2cd>, line 1)",
     "output_type": "error",
     "traceback": [
      "\u001b[1;36m  File \u001b[1;32m\"<ipython-input-6-ce27a7b7a2cd>\"\u001b[1;36m, line \u001b[1;32m1\u001b[0m\n\u001b[1;33m    python hello_world.py\u001b[0m\n\u001b[1;37m                     ^\u001b[0m\n\u001b[1;31mSyntaxError\u001b[0m\u001b[1;31m:\u001b[0m invalid syntax\n"
     ]
    }
   ],
   "source": [
    "python hello_world.py\n"
   ]
  },
  {
   "cell_type": "code",
   "execution_count": 7,
   "metadata": {},
   "outputs": [
    {
     "name": "stdout",
     "output_type": "stream",
     "text": [
      "Hello World!\n"
     ]
    }
   ],
   "source": [
    "# %load hello_world.py\n",
    "print(\"Hello World!\")\n"
   ]
  },
  {
   "cell_type": "code",
   "execution_count": 8,
   "metadata": {},
   "outputs": [
    {
     "name": "stderr",
     "output_type": "stream",
     "text": [
      "ERROR:root:File `'hello_world.py'` not found.\n"
     ]
    }
   ],
   "source": [
    "%run hello_world.py\n"
   ]
  },
  {
   "cell_type": "code",
   "execution_count": 9,
   "metadata": {},
   "outputs": [
    {
     "name": "stdout",
     "output_type": "stream",
     "text": [
      "Hello Python World\n",
      "Hello Python Crash Course World\n"
     ]
    }
   ],
   "source": [
    "message = \"Hello Python World\"\n",
    "print(message)\n",
    "\n",
    "message = \"Hello Python Crash Course World\"\n",
    "print(message)"
   ]
  },
  {
   "cell_type": "code",
   "execution_count": 10,
   "metadata": {},
   "outputs": [],
   "source": [
    "#Variable names can only contain letters, numbers, and underscores\n",
    "#must start with letter or underscore, but not a number\n",
    "#Spaces are not allowed in variable names\n",
    "#Avoid python keywords.  Also avoid common other program languages key words.\n",
    "#careful with l and 0 or 1 and o....\n"
   ]
  },
  {
   "cell_type": "code",
   "execution_count": 11,
   "metadata": {},
   "outputs": [
    {
     "data": {
      "text/plain": [
       "'Hello Python Crash Course World'"
      ]
     },
     "execution_count": 11,
     "metadata": {},
     "output_type": "execute_result"
    }
   ],
   "source": [
    "message "
   ]
  },
  {
   "cell_type": "code",
   "execution_count": 13,
   "metadata": {},
   "outputs": [
    {
     "name": "stdout",
     "output_type": "stream",
     "text": [
      "Hello Python Crash Course World\n"
     ]
    }
   ],
   "source": [
    "message = \"Hello Python Crash Course World\"\n",
    "print(message)"
   ]
  },
  {
   "cell_type": "code",
   "execution_count": 14,
   "metadata": {},
   "outputs": [
    {
     "name": "stdout",
     "output_type": "stream",
     "text": [
      "These are not the droids you are looking for.\n",
      "These are not the droids we are looking for.\n"
     ]
    }
   ],
   "source": [
    "%run simple_message.py\n"
   ]
  },
  {
   "cell_type": "code",
   "execution_count": 15,
   "metadata": {},
   "outputs": [
    {
     "name": "stdout",
     "output_type": "stream",
     "text": [
      "These are not the droids you are looking for.\n",
      "These are not the droids you are looking for.\n"
     ]
    }
   ],
   "source": [
    "# %load simple_message.py\n",
    "#simple_message2.py\n",
    "\n",
    "message1=\"These are not the droids you are looking for.\"\n",
    "message2=\"These are not the droids we are looking for.\"\n",
    "\n",
    "message2=message1\n",
    "\n",
    "print(message1)\n",
    "print(message2)\n",
    "\n",
    "#%writefile simple_message1.py\n",
    "#couldn't get this to work"
   ]
  },
  {
   "cell_type": "code",
   "execution_count": 16,
   "metadata": {},
   "outputs": [],
   "source": [
    "#\"This is a string\"\n",
    "#'This is also a string'"
   ]
  },
  {
   "cell_type": "code",
   "execution_count": 17,
   "metadata": {},
   "outputs": [
    {
     "name": "stdout",
     "output_type": "stream",
     "text": [
      "Ada Lovelace\n",
      "ADA LOVELACE\n",
      "ada lovelace\n",
      "ada lovelace\n",
      "\tHello, Ada Lovelace!\n"
     ]
    }
   ],
   "source": [
    "#name.py\n",
    "name = \"ada lovelace\"\n",
    "\n",
    "print(name.title())\n",
    "name = \"Ada Lovelace\"\n",
    "print(name.upper())\n",
    "print(name.lower())\n",
    "\n",
    "first_name = \"ada\"\n",
    "last_name = \"lovelace\"\n",
    "full_name = first_name + \" \" + last_name\n",
    "\n",
    "print(full_name)\n",
    "\n",
    "message = \"\\tHello, \" + full_name.title() + \"!\"\n",
    "#notice that \n",
    "\n",
    "print(message)"
   ]
  },
  {
   "cell_type": "code",
   "execution_count": 18,
   "metadata": {},
   "outputs": [
    {
     "name": "stdout",
     "output_type": "stream",
     "text": [
      "python \n",
      "python\n",
      "python \n"
     ]
    }
   ],
   "source": [
    "favorite_language = 'python '\n",
    "print(favorite_language)\n",
    "print(favorite_language.rstrip())\n",
    "print(favorite_language)\n",
    "#to strip the right side .rstrip()\n",
    "#to strip the left side of whitespace --> .lstrip()\n",
    "#to strip both sides of whitespace ---> .strip()"
   ]
  },
  {
   "cell_type": "code",
   "execution_count": 19,
   "metadata": {},
   "outputs": [
    {
     "name": "stdout",
     "output_type": "stream",
     "text": [
      "C:\\Users\\jsabr\\Google Drive\\Python Notebook\\Crash Course in Python\n"
     ]
    }
   ],
   "source": [
    "cd \"Crash Course in Python\"\n"
   ]
  },
  {
   "cell_type": "code",
   "execution_count": 20,
   "metadata": {},
   "outputs": [
    {
     "data": {
      "text/plain": [
       "'C:\\\\Users\\\\jsabr\\\\Google Drive\\\\Python Notebook\\\\Crash Course in Python'"
      ]
     },
     "execution_count": 20,
     "metadata": {},
     "output_type": "execute_result"
    }
   ],
   "source": [
    "pwd"
   ]
  },
  {
   "cell_type": "code",
   "execution_count": 21,
   "metadata": {},
   "outputs": [
    {
     "ename": "SyntaxError",
     "evalue": "invalid syntax (apostrophe.py, line 2)",
     "output_type": "error",
     "traceback": [
      "\u001b[1;36m  File \u001b[1;32m\"C:\\Users\\jsabr\\Google Drive\\Python Notebook\\Crash Course in Python\\apostrophe.py\"\u001b[1;36m, line \u001b[1;32m2\u001b[0m\n\u001b[1;33m    message = 'One of Python's strengths is its diverse community.'\u001b[0m\n\u001b[1;37m                             ^\u001b[0m\n\u001b[1;31mSyntaxError\u001b[0m\u001b[1;31m:\u001b[0m invalid syntax\n"
     ]
    }
   ],
   "source": [
    "%run apostrophe.py"
   ]
  },
  {
   "cell_type": "code",
   "execution_count": 22,
   "metadata": {},
   "outputs": [
    {
     "name": "stdout",
     "output_type": "stream",
     "text": [
      "Stephen M Brown\n",
      "STEPHEN M BROWN\n",
      "stephen m brown\n"
     ]
    }
   ],
   "source": [
    "#exercise 2-4\n",
    "full_name = \"stephen m brown\"\n",
    "print(full_name.title())\n",
    "print(full_name.upper())\n",
    "print(full_name.lower())"
   ]
  },
  {
   "cell_type": "code",
   "execution_count": 23,
   "metadata": {},
   "outputs": [
    {
     "name": "stdout",
     "output_type": "stream",
     "text": [
      "  \n",
      "  \t stephen m brown   \n",
      "\n",
      "  \n",
      "  \t stephen m brown\n",
      "stephen m brown   \n",
      "\n",
      "stephen m brown\n"
     ]
    }
   ],
   "source": [
    "#exercise 2-7\n",
    "full_name= \"  \\n  \\t stephen m brown   \\n\"\n",
    "print(full_name)\n",
    "print(full_name.rstrip())\n",
    "print(full_name.lstrip())\n",
    "print(full_name.strip())"
   ]
  },
  {
   "cell_type": "code",
   "execution_count": null,
   "metadata": {},
   "outputs": [],
   "source": [
    "2+3\n",
    "3*2"
   ]
  },
  {
   "cell_type": "code",
   "execution_count": null,
   "metadata": {},
   "outputs": [],
   "source": [
    "2**2**10"
   ]
  },
  {
   "cell_type": "markdown",
   "metadata": {
    "collapsed": true
   },
   "source": [
    "0.2 + 0.1"
   ]
  },
  {
   "cell_type": "code",
   "execution_count": null,
   "metadata": {},
   "outputs": [],
   "source": [
    "0.2 + 0.1"
   ]
  },
  {
   "cell_type": "code",
   "execution_count": null,
   "metadata": {},
   "outputs": [],
   "source": [
    "3*.01"
   ]
  },
  {
   "cell_type": "code",
   "execution_count": null,
   "metadata": {},
   "outputs": [],
   "source": [
    "#birthday.py\n",
    "age = 23\n",
    "message = \"Happy \" + str(age) + \"rd Birthday!\"\n",
    "print(message)"
   ]
  },
  {
   "cell_type": "code",
   "execution_count": null,
   "metadata": {},
   "outputs": [],
   "source": [
    "#exercise  2-9\n",
    "favorite_number = 42\n",
    "message = \"Stephen's favorite number is \" + str(favorite_number) +\".\"\n",
    "print(message)"
   ]
  },
  {
   "cell_type": "code",
   "execution_count": null,
   "metadata": {},
   "outputs": [],
   "source": [
    "import this"
   ]
  },
  {
   "cell_type": "code",
   "execution_count": null,
   "metadata": {},
   "outputs": [],
   "source": [
    "bicycles = ['trek','cannondale','redline','specialized']\n",
    "print(bicycles)\n",
    "print(bicycles[0].title())\n",
    "print(bicycles[1].title())\n",
    "print(bicycles[-1]) \n",
    "message = \"My first bicycle was a \" + bicycles[0].title() + \".\"\n",
    "\n",
    "print(message)\n"
   ]
  },
  {
   "cell_type": "code",
   "execution_count": null,
   "metadata": {},
   "outputs": [],
   "source": [
    "#exercise 3-1,3-2\n",
    "friend_names = ['Jennifer','Allie','Meghan', 'marshal']\n",
    "print(\"Hello, \" + friend_names[3].title() + \".  How are you today?\")\n"
   ]
  },
  {
   "cell_type": "code",
   "execution_count": null,
   "metadata": {},
   "outputs": [],
   "source": [
    "motorcycles = ['honda','yamaha','suzuki']\n",
    "print(motorcycles)\n",
    "\n",
    "motorcycles[0] = 'ducati'\n",
    "print(motorcycles)"
   ]
  },
  {
   "cell_type": "code",
   "execution_count": null,
   "metadata": {},
   "outputs": [],
   "source": [
    "motorcycles = ['honda','yamaha','suzuki']\n",
    "print(motorcycles)\n",
    "\n",
    "motorcycles.append('ducati')\n",
    "print(motorcycles)"
   ]
  },
  {
   "cell_type": "code",
   "execution_count": null,
   "metadata": {},
   "outputs": [],
   "source": [
    "motorcycles = []\n",
    "\n",
    "motorcycles.append('honda')\n",
    "motorcycles.append('yamaha')\n",
    "motorcycles.append('suzuki')\n",
    "\n",
    "print(motorcycles)"
   ]
  },
  {
   "cell_type": "code",
   "execution_count": null,
   "metadata": {},
   "outputs": [],
   "source": [
    "motorcycles = ['honda','yamaha','suzuki']\n",
    "\n",
    "\n",
    "#.insert(place,list_value)\n",
    "motorcycles.insert(0,'ducati')\n",
    "\n",
    "print(motorcycles)\n",
    "\n",
    "#del list(place)--> deletes the value in the list\n",
    "del motorcycles[0]\n",
    "print (motorcycles)\n",
    "print(motorcycles[0])\n",
    "\n",
    "#pop() pops the last value of a list\n",
    "print(motorcycles)\n",
    "\n",
    "popped_motorcycle = motorcycles.pop()\n",
    "print(motorcycles)\n",
    "print(popped_motorcycle)\n",
    "\n"
   ]
  },
  {
   "cell_type": "code",
   "execution_count": null,
   "metadata": {},
   "outputs": [],
   "source": [
    "motorcycles = ['honda','yamaha','suzuki']\n",
    "motorcycles.append('ducati')\n",
    "\n",
    "print(motorcycles)\n",
    "\n",
    "too_expensive = 'ducati'\n",
    "\n",
    "motorcycles.remove(too_expensive)\n",
    "print(motorcycles)\n",
    "\n",
    "last_owned = motorcycles.pop(0)\n",
    "print(\"The last motorcycle I owned was a \" + last_owned.title() + \".\")\n",
    "\n",
    "print(motorcycles)"
   ]
  },
  {
   "cell_type": "code",
   "execution_count": null,
   "metadata": {},
   "outputs": [],
   "source": [
    "#exercise 3-4 \"guest list\"\n",
    "\n",
    "guest_list = ['Stephen Brown', 'Stephen Spielberg','Jennifer Brown', 'Allie Brown','Meghan Brown']\n",
    "count=2\n",
    "#to take some one off and add them back together\n",
    "disinvited_guest = guest_list.pop(0)\n",
    "new_guest = guest_list.append('Jackson Sherman')\n",
    "\n",
    "message = \"Hello, \" + guest_list[count] + \", I would like to invite you to a special evening watching me drool.\"\n",
    "print(message)\n",
    "also_message = \"Also, as a reminder, \" + disinvited_guest + \" was not allowed to attend.\"\n",
    "\n",
    "print(also_message)"
   ]
  },
  {
   "cell_type": "code",
   "execution_count": null,
   "metadata": {},
   "outputs": [],
   "source": [
    "guest_list\n"
   ]
  },
  {
   "cell_type": "code",
   "execution_count": null,
   "metadata": {},
   "outputs": [],
   "source": [
    "cars = ['bmw','audi','toyota','subaru']\n",
    "orig_cars = cars\n",
    "print(\"Here is the orginal list\")\n",
    "print(cars)\n",
    "\n",
    "cars.sort(reverse=True)\n",
    "print(\"\\nHere is the sorted list\")\n",
    "print(cars)\n",
    "\n",
    "\n",
    "print(\"\\nHere is the original list again.\")\n",
    "print(\"Here is orig_cars \")\n",
    "print(orig_cars)\n",
    "cars = orig_cars\n",
    "print(orig_cars)\n",
    "print(cars)\n",
    "\n",
    "cars.reverse()\n",
    "print(cars)"
   ]
  },
  {
   "cell_type": "code",
   "execution_count": null,
   "metadata": {},
   "outputs": [],
   "source": [
    "#Not sure why this behaves this way.  But, hopefully, I can come back to it.\n",
    "\n",
    "list = ['a','b','c','d']\n",
    "orig_list = list\n",
    "print(list)\n",
    "print(orig_list)\n",
    "\n",
    "list.reverse()\n",
    "print(list)\n",
    "print(orig_list)\n",
    "\n",
    "orig_list.reverse()\n",
    "print(orig_list)\n",
    "print(list)"
   ]
  },
  {
   "cell_type": "code",
   "execution_count": null,
   "metadata": {},
   "outputs": [],
   "source": [
    "print(cars)"
   ]
  },
  {
   "cell_type": "code",
   "execution_count": null,
   "metadata": {},
   "outputs": [],
   "source": [
    "print(orig_cars)"
   ]
  },
  {
   "cell_type": "code",
   "execution_count": null,
   "metadata": {},
   "outputs": [],
   "source": [
    "len(cars)"
   ]
  },
  {
   "cell_type": "code",
   "execution_count": null,
   "metadata": {},
   "outputs": [],
   "source": [
    "magicians = ['alice','david','carolina']\n",
    "for magician in magicians:\n",
    "    print(magician.title() + \", that was a great trick!\")\n",
    "    print(\"I can't wait to see your next trick, \" + magician.title() + \". \\n\")\n",
    "print(\"Thank you for a wonderful show!\")"
   ]
  },
  {
   "cell_type": "code",
   "execution_count": null,
   "metadata": {},
   "outputs": [],
   "source": [
    "for value in range(1,5):\n",
    "    print(value)"
   ]
  },
  {
   "cell_type": "code",
   "execution_count": null,
   "metadata": {},
   "outputs": [],
   "source": [
    "numbers = range(1,10)\n",
    "#this is somesort of weird python thing again that doesn't like the book's way of doing range\n",
    "#so after some stackoverflow\n",
    "numbers=[*numbers]\n",
    "print(numbers)\n"
   ]
  },
  {
   "cell_type": "code",
   "execution_count": null,
   "metadata": {},
   "outputs": [],
   "source": [
    "#stackoverflow's way of doing the list(range())\n",
    "r = range(10)\n",
    "l = [*r]\n",
    "print(l)\n"
   ]
  },
  {
   "cell_type": "code",
   "execution_count": null,
   "metadata": {},
   "outputs": [],
   "source": [
    "numbers = [*range(10)]\n",
    "print(numbers)\n",
    "even_numbers = [*range(2,11,2)]\n",
    "#curly brackets also work\n",
    "print(even_numbers)"
   ]
  },
  {
   "cell_type": "code",
   "execution_count": null,
   "metadata": {},
   "outputs": [],
   "source": [
    "#squares.py\n",
    "squares = []\n",
    "for values in range(1,11):\n",
    "    square = values**2\n",
    "    squares.append(square)\n",
    "    \n",
    "print(squares)"
   ]
  },
  {
   "cell_type": "code",
   "execution_count": null,
   "metadata": {},
   "outputs": [],
   "source": [
    "#squares.py for a more compact method\n",
    "squares = []\n",
    "for values in range(1,11):\n",
    "    squares.append(values**2)\n",
    "    \n",
    "print(squares)"
   ]
  },
  {
   "cell_type": "code",
   "execution_count": null,
   "metadata": {},
   "outputs": [],
   "source": [
    "digits = [*range(1,100)]\n",
    "digits.append(0)\n",
    "print(digits)\n",
    "print(min(digits))\n",
    "print(max(digits))\n",
    "print(sum(digits))"
   ]
  },
  {
   "cell_type": "code",
   "execution_count": null,
   "metadata": {},
   "outputs": [],
   "source": [
    "#list comprehension\n",
    "squares = [value**2 for value in range(1,11)]\n",
    "print(squares)"
   ]
  },
  {
   "cell_type": "code",
   "execution_count": null,
   "metadata": {},
   "outputs": [],
   "source": [
    "#exercise 4-3 loop to 20\n",
    "loop_twenty = [*range(0,21)]\n",
    "for value in loop_twenty:\n",
    "    print(value)\n",
    "    "
   ]
  },
  {
   "cell_type": "code",
   "execution_count": null,
   "metadata": {},
   "outputs": [],
   "source": [
    "#exercise 4-4,5 to a million\n",
    "numbers = [*range(1,1000001)]\n",
    "print(min(numbers))\n",
    "print(max(numbers))\n",
    "print(sum(numbers))\n",
    "\n"
   ]
  },
  {
   "cell_type": "code",
   "execution_count": null,
   "metadata": {},
   "outputs": [],
   "source": [
    "#exercise 4-6,7,8\n",
    "odd_numbers = {*range(1,20,2)}\n",
    "print(odd_numbers)\n",
    "threes = [*range(3,31,3)]\n",
    "print((threes))\n",
    "cubes = [*range(1,11)]\n",
    "print(cubes)\n",
    "for value in cubes:\n",
    "    print(value**3)\n",
    "list_cubes = [value**3 for value in [*range(1,11)]]\n",
    "print(list_cubes)"
   ]
  },
  {
   "cell_type": "code",
   "execution_count": null,
   "metadata": {},
   "outputs": [],
   "source": [
    "players = ['charles','martina','michael','florence','eli']\n",
    "print(players[2:])\n",
    "print(players[-3:])\n",
    "\n",
    "print(\"Here are the first three players on my team\")\n",
    "for player in players[:3]:\n",
    "    print(player.title())"
   ]
  },
  {
   "cell_type": "code",
   "execution_count": null,
   "metadata": {},
   "outputs": [],
   "source": [
    "my_foods = ['pizza','falafel','carrot cake']\n",
    "friend_foods = my_foods[:]\n",
    "\n",
    "my_foods.append('cannoli')\n",
    "friend_foods.append('ice cream')\n",
    "\n",
    "print(\"my favorite foods are:\")\n",
    "print(my_foods)\n",
    "\n",
    "print(\"\\nMy friend's favorite foods are:\")\n",
    "print(friend_foods)\n",
    "\n",
    "for food in my_foods[:3]:\n",
    "    print(food)\n",
    "    \n",
    "for food in my_foods[1:3]:\n",
    "    print(food)"
   ]
  },
  {
   "cell_type": "code",
   "execution_count": null,
   "metadata": {},
   "outputs": [],
   "source": [
    "#tuples\n",
    "dimensions = (200,50)\n",
    "print(\"Original Dimensions\")\n",
    "for dimension in dimensions:\n",
    "    print(dimension)\n",
    "    \n",
    "print(dimensions[0])\n",
    "print(dimensions[1])\n",
    "\n",
    "dimensions = (400,100)\n",
    "print(\"\\nModified dimensions:\")\n",
    "for dimension in dimensions:\n",
    "    print(dimension)\n",
    "\n",
    "\n",
    "#dimensions[0]=250\n",
    "print(dimensions)"
   ]
  },
  {
   "cell_type": "code",
   "execution_count": null,
   "metadata": {},
   "outputs": [],
   "source": [
    "123456\n",
    "    1"
   ]
  },
  {
   "cell_type": "code",
   "execution_count": null,
   "metadata": {},
   "outputs": [],
   "source": [
    "cars = ['audi','bmw','subaru','toyota']\n",
    "for car in cars:\n",
    "    if car == 'bmw':\n",
    "        print(car.upper())\n",
    "    else:\n",
    "        print(car.title())"
   ]
  },
  {
   "cell_type": "code",
   "execution_count": null,
   "metadata": {},
   "outputs": [],
   "source": [
    "car = 'Audi'\n",
    "car.lower()=='audi'\n"
   ]
  },
  {
   "cell_type": "code",
   "execution_count": null,
   "metadata": {},
   "outputs": [],
   "source": [
    "requested_toppings = ['mushrooms','onions','pineapple']\n",
    "\n",
    "'mushrooms' in requested_topping\n",
    "\n",
    "#if requested_topping != 'anchovies':\n",
    " #   print(\"Hold the anchovies!\")\n",
    "'peoporoni' in requested_toppings"
   ]
  },
  {
   "cell_type": "code",
   "execution_count": null,
   "metadata": {},
   "outputs": [],
   "source": [
    "age_0 = 22\n",
    "age_1 = 18\n",
    "\n",
    "age_0 >= 21 or age_1 >= 21"
   ]
  },
  {
   "cell_type": "code",
   "execution_count": null,
   "metadata": {},
   "outputs": [],
   "source": [
    "banned_users = ['andrew','carolina','david']\n",
    "user = 'marie'\n",
    "\n",
    "if user not in banned_users:\n",
    "    print(user.title() + \", you can post a response if you wish.\")"
   ]
  },
  {
   "cell_type": "code",
   "execution_count": null,
   "metadata": {},
   "outputs": [],
   "source": [
    "age = 17\n",
    "if age >= 18:\n",
    "    print(\"You are old enough to vote!\")\n",
    "    print(\"Have you registered to vote!\")\n",
    "else:\n",
    "    print(\"Sorry, you are too young to vote.\")\n",
    "    print(\"Please register to vote as soon as you turn 18!\")"
   ]
  },
  {
   "cell_type": "code",
   "execution_count": null,
   "metadata": {},
   "outputs": [],
   "source": [
    "age = 18\n",
    "\n",
    "if age < 4:\n",
    "    print(\"Your admission cost is $0.\")\n",
    "elif age < 18:\n",
    "    print(\"Your admission cost is $5.\")\n",
    "else:\n",
    "    print(\"Your admission cost is $10.\")"
   ]
  },
  {
   "cell_type": "code",
   "execution_count": null,
   "metadata": {},
   "outputs": [],
   "source": [
    "#5-3 Alien colors\n",
    "alien_color = 'yellow-green'\n",
    "\n",
    "if alien_color == 'green':\n",
    "    print(\"Congrats!  You get 5 points!\")\n",
    "elif alien_color == 'yellow':\n",
    "    print(\"Congrats! You get 10 points!\")\n",
    "elif alien_color == 'red':\n",
    "    print(\"Congrats!  You get 15 points!\")\n",
    "else:\n",
    "    print(\"Unknown Color Alien\")"
   ]
  },
  {
   "cell_type": "code",
   "execution_count": null,
   "metadata": {},
   "outputs": [],
   "source": [
    "#toppings.py\n",
    "#requested_toppings = ['mushrooms','green peppers','extra cheese']\n",
    "#python if returns a null if the name of an empty list is in if statement\n",
    "requested_toppings = []\n",
    "if requested_toppings:\n",
    "    for requested_topping in requested_toppings:\n",
    "        if requested_topping == 'green peppers':\n",
    "            print(\"Sorry, we are out of green peppers right now.\")\n",
    "        else:\n",
    "            print(\"Adding \" + requested_topping+ \".\")\n",
    "else:\n",
    "    print(\"Are you sure you want a plain pizza?\")\n",
    "print(\"\\nFinished making your pizza!\")"
   ]
  },
  {
   "cell_type": "code",
   "execution_count": null,
   "metadata": {},
   "outputs": [],
   "source": [
    "available_toppings = ['mushrooms','olives','green peppers', 'pepperoni','pineapple','extra cheese']\n",
    "\n",
    "requested_toppings = ['mushrooms', 'french fries', 'extra cheese']\n",
    "\n",
    "for requested_topping in requested_toppings:\n",
    "    if requested_topping in available_toppings:\n",
    "        print(\"Adding \" + requested_topping + \".\")\n",
    "    else:\n",
    "        print(\"Sorry, we don't have \" + requested_topping + \".\")\n",
    "print(\"\\nFinished making your pizza!\")"
   ]
  },
  {
   "cell_type": "code",
   "execution_count": null,
   "metadata": {},
   "outputs": [],
   "source": [
    "#5-11 Ordinal Numbers\n",
    "number_list = ['1','2','3','4','5','6','7','8','9']\n",
    "\n",
    "for number in number_list:\n",
    "    if number == '1':\n",
    "        print(number + \"st\")\n",
    "    elif number == '2':\n",
    "        print(number + \"nd\")\n",
    "    elif number == '3':\n",
    "        print(number + \"rd\")\n",
    "    else:\n",
    "        print(number + \"th\")"
   ]
  },
  {
   "cell_type": "code",
   "execution_count": null,
   "metadata": {},
   "outputs": [],
   "source": [
    "#alien.py\n",
    "alien_0 = {'color':'green','points':5}\n",
    "print(alien_0['color'])\n",
    "print(alien_0['points'])\n",
    "print(alien_0)\n",
    "\n",
    "new_points = alien_0['points']\n",
    "print(\"You just earned \" + str(new_points) +  \" points.\")\n",
    "\n",
    "alien_0['x_position'] = 0\n",
    "alien_0['y_position'] = 0\n",
    "print(alien_0)"
   ]
  },
  {
   "cell_type": "code",
   "execution_count": null,
   "metadata": {},
   "outputs": [],
   "source": [
    "alien_0 = {}\n",
    "\n",
    "alien_0['color'] = 'green'\n",
    "alien_0['points'] = 5\n",
    "\n",
    "print(alien_0)\n",
    " \n",
    "print(\"The alien is \" + alien_0['color'] + \".\")\n",
    "\n",
    "alien_0['color'] = 'yellow'\n",
    "print(\"The alien is \" + alien_0['color'] + \".\")\n",
    "\n",
    "alien_0 = {'x_position':0,'y_position':25, 'speed':'medium'}\n",
    "\n",
    "print(\"Original x-position: \" + str(alien_0['x_position']))\n",
    "\n",
    "#move the alien to the right\n",
    "#Determine how far to move the alien based on its\n",
    "#current speed\n",
    "\n",
    "if alien_0['speed'] == 'slow':\n",
    "    x_increment = 1\n",
    "elif alien_0['speed']  == 'medium':\n",
    "    x_increment = 2\n",
    "else:\n",
    "    #this must be a fast alien\n",
    "    x_increment = 3\n",
    "    \n",
    "#The new position is the old position plus the increment.\n",
    "\n",
    "alien_0['x_position'] = alien_0['x_position'] + x_increment\n",
    "\n",
    "print(\"New x-position \" + str(alien_0['x_position']))\n",
    "\n",
    "del alien_0['x_position']\n",
    "\n",
    "print(alien_0)\n",
    "\n",
    "\n"
   ]
  },
  {
   "cell_type": "code",
   "execution_count": null,
   "metadata": {},
   "outputs": [],
   "source": [
    "favorite_languages = {\n",
    "    'jen':'python',\n",
    "    'sarah':'c',\n",
    "    'edward':'ruby',\n",
    "    'phil':'python',\n",
    "    }\n",
    "print(favorite_language)"
   ]
  },
  {
   "cell_type": "code",
   "execution_count": null,
   "metadata": {},
   "outputs": [],
   "source": [
    "favorite_language['sarah']"
   ]
  },
  {
   "cell_type": "code",
   "execution_count": null,
   "metadata": {},
   "outputs": [],
   "source": [
    "#the book is making a note again that python will not necessarily return\n",
    "#the key:values in a set order.  My output seems to do this.  Python 3.6?\n",
    "\n",
    "\n",
    "\n",
    "user_0 = {\n",
    "    'username':'efermi',\n",
    "    'first':'enrico',\n",
    "    'last':'fermi',\n",
    "}\n",
    "\n",
    "for key, value in user_0.items():\n",
    "    print(\"Key: \" + key)\n",
    "    print(\"Value: \" + value)\n",
    "    print(\"\\n\")\n",
    "    \n",
    "print(user_0.items())\n"
   ]
  },
  {
   "cell_type": "code",
   "execution_count": null,
   "metadata": {},
   "outputs": [],
   "source": [
    "#favorite_languages.py  favorite_languages from previous cell\n",
    "print(favorite_languages)\n",
    "\n",
    "for name, language in favorite_languages.items():\n",
    "    print(name.title() + \"'s favorite lanuague is \" +\n",
    "         language.title() + \".\")\n"
   ]
  },
  {
   "cell_type": "code",
   "execution_count": null,
   "metadata": {},
   "outputs": [],
   "source": [
    "for name in favorite_languages.keys():\n",
    "    print(name.title())\n",
    "\n",
    "friends = ['phil','sarah']\n",
    "for name in favorite_languages.keys():\n",
    "    print(name.title())\n",
    "    if name in friends:\n",
    "        print(\" Hi \" + name.title() +\n",
    "             \",I see your favorite language is \" +\n",
    "            favorite_languages[name].title() + \".\")\n",
    "\n",
    "if 'erin' not in favorite_languages.keys():\n",
    "    print(\"Erin, please take our poll!\")\n",
    "    \n",
    "    \n",
    "for name in sorted(favorite_language.keys()):\n",
    "    print(name.title() + \", thank you for taking the poll.\")\n",
    "    \n",
    "print(\"The following languages have been mentioned:\")\n",
    "for language in set(favorite_languages.values()):\n",
    "    print(language.title())\n"
   ]
  },
  {
   "cell_type": "code",
   "execution_count": null,
   "metadata": {},
   "outputs": [],
   "source": [
    "#exercise 6-5 Rivers.py\n",
    "rivers = {\n",
    "    'nile':'egypt',\n",
    "    'amazon':'brazil',\n",
    "    'missouri':'united states of america'\n",
    "    }\n",
    "for river in rivers.keys():\n",
    "    print(\"The river \" + river.title() + \" is a river.\")\n",
    "\n",
    "for country in rivers.values():\n",
    "    print(country.title())"
   ]
  },
  {
   "cell_type": "code",
   "execution_count": null,
   "metadata": {},
   "outputs": [],
   "source": [
    "#nesting\n",
    "alien_0 = {'color':'green','points':5}\n",
    "alien_1 = {'color':'yellow','points':10}\n",
    "alien_2 = {'color':'red','points':15}\n",
    "\n",
    "aliens = [alien_0, alien_1, alien_2]\n",
    "\n",
    "for alien in aliens:\n",
    "    print(alien)"
   ]
  },
  {
   "cell_type": "code",
   "execution_count": null,
   "metadata": {},
   "outputs": [],
   "source": [
    "#make an empty list for storing aliens\n",
    "aliens = []\n",
    "\n",
    "#make 30 green aliens.\n",
    "for alien_number in range(30):\n",
    "    new_alien = {'color':'green','points':5,'speed':'slow'}\n",
    "    aliens.append(new_alien)\n",
    "\n",
    "for alien in aliens[0:3]:\n",
    "    if alien['color'] == 'green':\n",
    "        alien['color'] = 'yellow'\n",
    "        alien['speed'] = 'medium'\n",
    "        alien['points'] = 10\n",
    "        \n",
    "#show the first 5 aliens\n",
    "for alien in aliens[:5]:\n",
    "    print(alien)\n",
    "    print(\"...\")\n",
    "#Show how many aliens have been created.\n",
    "print(\"Total number of aliens: \" +\n",
    "     str(len(aliens)))\n",
    "\n"
   ]
  },
  {
   "cell_type": "code",
   "execution_count": null,
   "metadata": {},
   "outputs": [],
   "source": [
    "#pizza.py\n",
    "#Store information about a pizza being ordered.\n",
    "\n",
    "pizza = {\n",
    "    'crust':'thick',\n",
    "    'toppings':['mushrooms','extra chesse'],\n",
    "    }\n",
    "\n",
    "#Summarize the order\n",
    "print(\"You ordered a \" + pizza['crust'] + \"-crust pizza\" + \n",
    "     \" with the following toppings.\")\n",
    "\n",
    "for topping in pizza['toppings']:\n",
    "    print(\"\\t\" + topping)"
   ]
  },
  {
   "cell_type": "code",
   "execution_count": null,
   "metadata": {},
   "outputs": [],
   "source": [
    "#many_users\n",
    "\n",
    "users ={\n",
    "    'aeinstein':{\n",
    "        'first':'albert',\n",
    "        'last':'einstein',\n",
    "        'location':'princeton',\n",
    "    },\n",
    "    'mcurie':{\n",
    "        'first':'marie',\n",
    "        'last':'curie',\n",
    "        'location':'paris'  \n",
    "    }\n",
    "}\n",
    "for username, user_info in users.items():\n",
    "    print(\"\\nUsername: \" + username)\n",
    "    full_name = user_info['first'] + \" \" + user_info['last']\n",
    "    location = user_info['location']\n",
    "    \n",
    "    print(\"\\tFull Name: \" + full_name.title())\n",
    "    print(\"\\tLocation: \" + location.title())"
   ]
  },
  {
   "cell_type": "code",
   "execution_count": null,
   "metadata": {},
   "outputs": [],
   "source": [
    "#parrot.py\n",
    "message = input(\"Tell me something, and I will repeat it back to you: \")\n",
    "print(message)"
   ]
  },
  {
   "cell_type": "code",
   "execution_count": null,
   "metadata": {},
   "outputs": [],
   "source": [
    "#greeter.py\n",
    "prompt = \"If you tell us who you are, we can personalie the messages you see.\"\n",
    "prompt += \"\\nWhat is your first name? \"\n",
    "name = input(prompt)\n",
    "print(\"Hello, \" + name + \"!\")\n",
    "\n",
    "age = input(\"How old are you? \")\n",
    "print(age)\n",
    "\n",
    "age = input(\"How old are you? \")\n",
    "age = int(age)\n",
    "age"
   ]
  },
  {
   "cell_type": "code",
   "execution_count": null,
   "metadata": {},
   "outputs": [],
   "source": [
    "age = int(input(\"How old are you? \"))\n",
    "age\n",
    "\n"
   ]
  },
  {
   "cell_type": "markdown",
   "metadata": {},
   "source": [
    "4%3"
   ]
  },
  {
   "cell_type": "code",
   "execution_count": null,
   "metadata": {},
   "outputs": [],
   "source": [
    "4%3"
   ]
  },
  {
   "cell_type": "code",
   "execution_count": null,
   "metadata": {},
   "outputs": [],
   "source": [
    "4/3"
   ]
  },
  {
   "cell_type": "code",
   "execution_count": null,
   "metadata": {},
   "outputs": [],
   "source": [
    "#even_or_odd.py\n",
    "number = input(\"Enter a number, and I'll tell you if it's even or odd: \")\n",
    "number = int(number)\n",
    "\n",
    "if number % 2 == 0:\n",
    "    print(\"\\nThe number \" + str(number) + \" is even.\")\n",
    "else:\n",
    "    print(\"\\nThe number \" + str(number) + \" is odd.\")\n",
    "    "
   ]
  },
  {
   "cell_type": "code",
   "execution_count": null,
   "metadata": {},
   "outputs": [],
   "source": [
    "#mutiples of 10\n",
    "number = int(input(\"Please input a number: \"))\n",
    "if number % 10 == 0:\n",
    "    print(\"The number, \" + str(number) + \" is a multiple of 10.\")\n",
    "else:\n",
    "    print(\"The number, \" + str(number)+ \" is not a multiple of 10.\")"
   ]
  },
  {
   "cell_type": "code",
   "execution_count": null,
   "metadata": {},
   "outputs": [],
   "source": [
    "#counting.py\n",
    "current_number = 1\n",
    "while current_number <= 5:\n",
    "    print(current_number)\n",
    "    current_number += 1"
   ]
  },
  {
   "cell_type": "code",
   "execution_count": null,
   "metadata": {},
   "outputs": [],
   "source": [
    "prompt = \"\\nTell me something, and I will repeat it back to you:\"\n",
    "prompt += \"\\nEnter 'quit' to end the program. \"\n",
    "\n",
    "message = \"\" \n",
    "while message != 'quit':\n",
    "    message = input(prompt)\n",
    "    if message != 'quit':\n",
    "        print(message)"
   ]
  },
  {
   "cell_type": "code",
   "execution_count": null,
   "metadata": {},
   "outputs": [],
   "source": [
    "prompt = \"\\nTell me something, and I will repeat it back to you:\"\n",
    "prompt += \"\\nEnter 'quit' to end the program. \"\n",
    "\n",
    "active = True\n",
    "while active:\n",
    "    message = input(prompt)\n",
    "    \n",
    "    if message == 'quit':\n",
    "        active = False\n",
    "    else:\n",
    "        print(message)"
   ]
  },
  {
   "cell_type": "code",
   "execution_count": null,
   "metadata": {},
   "outputs": [],
   "source": [
    "#cities.py\n",
    "prompt = \"\\nPlease enter the name of a city you have visited: \"\n",
    "prompt += \"\\n(Enter 'quit' when you are finished.)\"\n",
    "\n",
    "while True:\n",
    "    city = input(prompt)\n",
    "    \n",
    "    if city == 'quit':\n",
    "        break\n",
    "    else:\n",
    "        print(\"I'd love to go to \" + city.title() + \"!\")"
   ]
  },
  {
   "cell_type": "code",
   "execution_count": null,
   "metadata": {},
   "outputs": [],
   "source": [
    "#counting.py\n",
    "current_number = 0 \n",
    "while current_number < 10:\n",
    "    current_number += 1\n",
    "    if current_number % 2 == 0:\n",
    "        continue\n",
    "    print(current_number)"
   ]
  },
  {
   "cell_type": "code",
   "execution_count": null,
   "metadata": {},
   "outputs": [],
   "source": [
    "#confirmed_users.py\n",
    "#Start with users that need to be verified,\n",
    "#and an empty list to hold confirmed users.\n",
    "unconfirmed_users = ['alice','brian','candace']\n",
    "confirmed_users = []\n",
    "\n",
    "#verify each user until there are no more\n",
    "#unconfirmed users.\n",
    "\n",
    "#move each verified user into the list of confirmed users.\n",
    "while unconfirmed_users:\n",
    "    current_user = unconfirmed_users.pop()\n",
    "    \n",
    "    print(\"Verifying user: \" + current_user.title())\n",
    "    confirmed_users.append(current_user)\n",
    "#Display all confirmed users\n",
    "print(\"\\nThe following users have been confirmed:\")\n",
    "for confirmed_user in confirmed_users:\n",
    "    print(confirmed_user.title())\n",
    "    \n"
   ]
  },
  {
   "cell_type": "code",
   "execution_count": null,
   "metadata": {},
   "outputs": [],
   "source": [
    "pets = ['dog','cat','dog','goldfish','cat','rabbit','cat']\n",
    "print(pets)\n",
    "\n",
    "while 'cat' in pets:\n",
    "    pets.remove('cat')\n",
    "\n",
    "print(pets)"
   ]
  },
  {
   "cell_type": "code",
   "execution_count": null,
   "metadata": {},
   "outputs": [],
   "source": [
    "#mountain_poll.py\n",
    "\n",
    "responses = {}\n",
    "\n",
    "#Set a flag to indicate that polling is active.\n",
    "polling_active = True\n",
    "\n",
    "while polling_active:\n",
    "    #prompt for the person's name and response.\n",
    "    name = input(\"\\nWhat is your name? \")\n",
    "    response = input(\"Which mountain would you like to climb someday? \")\n",
    "    \n",
    "    #store the response in the dictionary:\n",
    "    responses[name] = response\n",
    "    \n",
    "    #Find out if anyone else is going to take the poll.\n",
    "    repeat = input(\"Would you like to let another person respond? (yes/no)\")\n",
    "    if repeat == 'no':\n",
    "        polling_active = False\n",
    "        \n",
    "#Polling is complete.  Show the results.\n",
    "print(\"\\n---Poll Results---\")\n",
    "for name, response in responses.items():\n",
    "    print(name.title() + \" would like to climb \" + response.title() + \".\")\n",
    "    "
   ]
  },
  {
   "cell_type": "code",
   "execution_count": null,
   "metadata": {},
   "outputs": [],
   "source": [
    "#exercise 7-8.9\n",
    "sandwich_orders = []\n",
    "finished_orders = []\n",
    "\n",
    "prompt = (\"What is your sandwich order today? \")\n",
    "prompt_2 =(\"Is that all? (y/n)\")\n",
    "#fill sandwich_orders with sandwhiches\n",
    "make_list = True\n",
    "\n",
    "print(sandwich_orders)\n",
    "while make_list:\n",
    "    sandwich_orders.append(input(prompt))\n",
    "    \n",
    "    if input(prompt_2) != 'n':\n",
    "        make_list = False\n",
    "        \n",
    "print(\"There are \" + str(len(sandwich_orders)) + \" sandwich orders\")\n",
    "\n",
    "print(sandwich_orders)\n",
    "\n",
    "#The sandwich_order list has been filled.  Now let's simulate us making the sandwich and taking the \n",
    "#sandwich from the orde list to the finished list\n",
    "made_sandwiches = 0\n",
    "while sandwich_orders:\n",
    "    print(\"\\nMaking a Sandwich!!!!!!!!!\")\n",
    "    finished_orders.append(sandwich_orders[made_sandwiches])\n",
    "    print(\"\\n\" + finished_orders[made_sandwiches]+ \" has been made!\")\n",
    "    print(\"\\n\" + str(made_sandwiches))\n",
    "    del sandwich_orders[made_sandwiches]\n",
    "    made_sandwiches += 1\n",
    "    \n",
    "\n",
    "\n"
   ]
  },
  {
   "cell_type": "code",
   "execution_count": null,
   "metadata": {},
   "outputs": [],
   "source": [
    "#greeter.py\n",
    "def greet_user(username):\n",
    "    \"\"\"Display a simple greeting.\"\"\"\n",
    "    print(\"Hello, \" + username.title() + \"!\")\n",
    "    \n",
    "greet_user('jesse')"
   ]
  },
  {
   "cell_type": "code",
   "execution_count": null,
   "metadata": {},
   "outputs": [],
   "source": [
    "def describe_pet(animal_type, pet_name):\n",
    "    \"\"\"Display information about a pet.\"\"\"\n",
    "    print(\"\\nI have a \" + animal_type + \".\")\n",
    "    print(\"My \" + animal_type + \"'s name is \" + pet_name.title() + \".\")\n",
    "\n",
    "describe_pet(animal_type='hamster', pet_name='harry')"
   ]
  },
  {
   "cell_type": "code",
   "execution_count": null,
   "metadata": {},
   "outputs": [],
   "source": [
    "#exercise 8-3\n",
    "def make_shirt(shirt_size,shirt_message):\n",
    "    \"\"\"Displays the size and message printed on T-shirt.\"\"\"\n",
    "    print(\"\\nThe size of the shirt is \" + shirt_size)\n",
    "    print(\"The message reads:\\n\" + shirt_message)\n",
    "    \n",
    "make_shirt('Xl',\"Greetings to all Mankind!\")"
   ]
  },
  {
   "cell_type": "code",
   "execution_count": null,
   "metadata": {},
   "outputs": [],
   "source": [
    "def get_formatted_name(first_name,last_name):\n",
    "    \"\"\"Returns a full name, neatly formated.\"\"\"\n",
    "    full_name = first_name + ' ' + last_name\n",
    "    return full_name.title()\n",
    "\n",
    "musician = get_formatted_name('jimi','hendrix')\n",
    "print(musician)"
   ]
  },
  {
   "cell_type": "code",
   "execution_count": null,
   "metadata": {},
   "outputs": [],
   "source": [
    " def get_formatted_name(first_name, last_name, middle_name=''):\n",
    "    \"\"\"Returns a full name, neatly formated.  Middle name is optional.\"\"\"\n",
    "    if middle_name:\n",
    "        full_name = first_name + ' ' + middle_name + ' ' + last_name\n",
    "    else:\n",
    "        full_name = first_name + ' ' + last_name\n",
    "    return full_name.title()\n",
    "\n",
    "musician = get_formatted_name('jimi','hendrix')\n",
    "print(musician)\n",
    "\n",
    "musician = get_formatted_name('john','hoooker','lee')\n",
    "print(musician)"
   ]
  },
  {
   "cell_type": "code",
   "execution_count": null,
   "metadata": {},
   "outputs": [],
   "source": [
    "def build_person(first_name, last_name):\n",
    "    \"\"\"Return a dictionary of information about a person.\"\"\"\n",
    "    person = {'first':first_name, 'last':last_name}\n",
    "    return person\n",
    "\n",
    "musician = build_person('jimi', 'hendrix')\n",
    "print(musician)"
   ]
  },
  {
   "cell_type": "code",
   "execution_count": null,
   "metadata": {},
   "outputs": [],
   "source": [
    "#greet_users.py\n",
    "usernames=['hannah','ty','margot']\n",
    "greet_users(usernames)\n",
    "\n",
    "def greet_users(names):\n",
    "    \"\"\"Print a simple greeting to each user in the list\"\"\"\n",
    "    for name in names:\n",
    "        msg = \"Hello, \" + name.title() + \"!\"\n",
    "        print(msg)"
   ]
  },
  {
   "cell_type": "code",
   "execution_count": null,
   "metadata": {},
   "outputs": [],
   "source": [
    "def make_pizza(*toppings):\n",
    "    \"\"\"Print the list of toppings that have been requested.\"\"\"\n",
    "    print(toppings)\n",
    "\n",
    "make_pizza('pepperoni')\n",
    "make_pizza('mushrooms', 'green peppers', 'extra cheese')"
   ]
  },
  {
   "cell_type": "code",
   "execution_count": null,
   "metadata": {},
   "outputs": [],
   "source": [
    "def make_pizza(size, *toppings):\n",
    "    \"\"\"Summarize the pizza we are about to make.\"\"\"\n",
    "    print(\"\\nMaking a \" + str(size) + \"-inch pizza with the following toppings:\")\n",
    "    for topping in toppings:\n",
    "        print(\"-\" + topping)\n",
    "        \n",
    "make_pizza(16, 'pepproni')\n",
    "make_pizza(12, 'mushrooms','green peppers', 'extra cheese')\n",
    "\n",
    "make_pizza('pepperoni')\n",
    "make_pizza('mushrooms', 'green peppers', 'extra cheese')"
   ]
  },
  {
   "cell_type": "code",
   "execution_count": null,
   "metadata": {},
   "outputs": [],
   "source": [
    "def build_profile(first, last, **user_info):\n",
    "    \"\"\"Build a dictionary containing everything we know about a user.\"\"\"\n",
    "    profile = {}\n",
    "    profile['first_name'] = first\n",
    "    profile['last_name'] = last\n",
    "    for key, value in user_info.items():\n",
    "        profile[key] = value\n",
    "    return profile\n",
    "\n",
    "user_profile = build_profile('albert','einstein',location='princeton',field='physics')\n",
    "\n",
    "print(user_profile)\n",
    "\n",
    "#This is not working for some reason.  "
   ]
  },
  {
   "cell_type": "code",
   "execution_count": null,
   "metadata": {},
   "outputs": [],
   "source": [
    "#Exercise 8-14\n",
    "def make_car(make, model, color, **options):\n",
    "    \"\"\"Build a dictionary containing everything we know about a car.\"\"\"\n",
    "    profile={}\n",
    "    profile['car_make'] = make\n",
    "    profile['car_model'] = model\n",
    "    profile['car_color'] = color\n",
    "    for key, value in options.items():\n",
    "        profile[key] = value\n",
    "    return profile\n",
    "\n",
    "car = make_car('subaru','outback','blue',tow_package=True)\n",
    "print(car)\n",
    "\n",
    "car = make_car('subaru','outback','blue')\n",
    "print(car)\n",
    "\n",
    "car = make_car('volvo','s40','red',sports_package=True)\n",
    "print(car)"
   ]
  },
  {
   "cell_type": "code",
   "execution_count": null,
   "metadata": {},
   "outputs": [],
   "source": [
    "import pizza as pz\n",
    "\n",
    "pz.make_pizza(16,'pepperoni')\n",
    "pz.make_pizza(12,'mushrooms','green peppers', 'extra cheese')"
   ]
  },
  {
   "cell_type": "code",
   "execution_count": null,
   "metadata": {},
   "outputs": [],
   "source": [
    "from pizza import make_pizza\n",
    "pz.make_pizza(16,'pepperoni')\n",
    "pz.make_pizza(12,'mushrooms','green peppers', 'extra cheese')\n"
   ]
  },
  {
   "cell_type": "code",
   "execution_count": null,
   "metadata": {},
   "outputs": [],
   "source": [
    "#makingan object from a class is called instantiation, and you work with\n",
    "#instances of a class."
   ]
  },
  {
   "cell_type": "code",
   "execution_count": null,
   "metadata": {},
   "outputs": [],
   "source": [
    "#dog.py\n",
    "#in python classes are styled with a capital letter.\n",
    "class Dog():\n",
    "    \"\"\"A simple attempt to model a dog.\"\"\"\n",
    "#a function that is part of a class is called a method.\n",
    "    def __init__(self, name, age):\n",
    "        \"\"\"Initialize name and age attributes.\"\"\"\n",
    "        self.name = name\n",
    "        self.age = age\n",
    "#Any variable prefixed with self. is available to every method in the class.\n",
    "        \n",
    "    def sit(self):\n",
    "        \"\"\"Simulate a dog sitting in response to a command.\"\"\"\n",
    "        print(self.name.title() + \" is now sitting.\")\n",
    "        \n",
    "    def roll_over(self):\n",
    "        \"\"\"Simulate a dog rolling over in response to a command.\"\"\"\n",
    "        print(self.name.title() + \" rolled over.\")\n",
    "        \n",
    "my_dog = Dog('willie',6)\n",
    "\n",
    "print(\"My dog's name is \" + my_dog.name.title() + \".\" )\n",
    "print(\"My dog's age is \" + str(my_dog.age) + \" years old.\")\n",
    "\n",
    "my_dog.sit()\n",
    "my_dog.roll_over()\n",
    "\n",
    "your_dog = Dog('lucy',8)"
   ]
  },
  {
   "cell_type": "code",
   "execution_count": null,
   "metadata": {},
   "outputs": [],
   "source": [
    "#9-1 Restaurant\n",
    "class Restaurant():\n",
    "    \"Simple class to simulate a restaurant.\"\n",
    "    def __init__(self,restaurant_name, cuisine_type):\n",
    "        \"\"\"Initialize name and type\"\"\"\n",
    "        self.restaurant_name = restaurant_name\n",
    "        self.cuisine_type = cuisine_type\n",
    "        \n",
    "    def describe_restaurant(self):\n",
    "        \"\"\"method to print the name and type of restaurant.\"\"\"\n",
    "        print(\"This restaurant, \" + self.restaurant_name.title() + \" is a/an \" + self.cuisine_type + \"-style restaurant.\")\n",
    "        \n",
    "    def open_restaurant(self):\n",
    "        \"\"\"method to simulate the opening of a restaurant\"\"\"\n",
    "        print(self.restaurant_name.title() + \" is now open.\")\n",
    "        \n",
    "cunnettoes = Restaurant('cunnettoes', 'Italian')\n",
    "\n",
    "cunnettoes.describe_restaurant()\n",
    "\n",
    "cunnettoes.open_restaurant()\n",
    "        \n"
   ]
  },
  {
   "cell_type": "code",
   "execution_count": null,
   "metadata": {},
   "outputs": [],
   "source": [
    "#9-3 Users.py\n",
    "#a class with multiple attributes called User\n",
    "class User():\n",
    "    def __init__(self, name, age, height, race):\n",
    "        \"\"\"initialize the class\"\"\"\n",
    "        self.name = name\n",
    "        self.age = age\n",
    "        self.height = height\n",
    "        self.race = race\n",
    "        \n",
    "    def describe_user(self):\n",
    "        \"\"\"prints a summary of the user's information.\"\"\"\n",
    "        print(\"\\nUser: \" + self.name.title())\n",
    "        print(\"\\nAge: \" + str(self.age))\n",
    "        print(\"\\nHeight: \" + self.height)\n",
    "        print(\"\\nRace: \" + self.race)\n",
    "        \n",
    "    def greet_user(self):\n",
    "        \"\"\"method to print personalized greeting to specific user\"\"\"\n",
    "        print(\"Hello, \" + self.name.title())\n",
    "        \n",
    "jimmy = User('jimmy doolittle', 45, '6 feet', 'white')\n",
    "stephen = User('stephen brown', 45, '5 feet 9 inches', 'white' )\n",
    "jen = User('jennifer brown', 45, '6 feet 1 inches', 'white')\n",
    "\n",
    "jimmy.describe_user()\n",
    "jimmy.greet_user()\n",
    "#Problemsthat I had: didn't call the class correctly (used def instead of class)\n",
    "#still not really confident how the self. and __init__ works.\n"
   ]
  },
  {
   "cell_type": "code",
   "execution_count": null,
   "metadata": {},
   "outputs": [],
   "source": [
    "#car.py\n",
    "class Car():\n",
    "    \"\"\"A simple attempt to represent a car.\"\"\"\n",
    "    def __init__(self, make, model, year):\n",
    "        \"\"\"Initialize attributes to describe a car.\"\"\"\n",
    "        self.make = make\n",
    "        self.model = model\n",
    "        self.year = year\n",
    "        self.odometer_reading = 0\n",
    "    \n",
    "    def get_descriptive_name(self):\n",
    "        \"\"\"Return a neatly formatted descriptive name.\"\"\"\n",
    "        long_name = str(self.year) + ' ' + self.make + ' ' + self.model\n",
    "        return long_name.title()\n",
    "    def read_odometer(self):\n",
    "        \"\"\"Print a statement about the car's mileage.\"\"\"\n",
    "        print(\"This car has \" + str(self.odometer_reading) + \" miles on it.\")\n",
    "    def update_odometer(self, mileage):\n",
    "        \"\"\"\n",
    "            Set the odometer reading to the given value.\n",
    "            Reject the change if it attempts to roll the odometer back\n",
    "            \"\"\"\n",
    "        if mileage >= self.odometer_reading:\n",
    "            self.odometer_reading = mileage\n",
    "        else:\n",
    "            print(\"You can't roll back an odometer!\")\n",
    "    def increment_odometer(self, miles):\n",
    "        \"\"\"Add the given amount to the odometer reading.\"\"\"\n",
    "        self.odometer_reading += miles\n",
    "        \n",
    "        \n",
    "my_new_car = Car('audi','a4',2016)\n",
    "print(my_new_car.get_descriptive_name())\n",
    "my_new_car.update_odometer(23)\n",
    "my_new_car.read_odometer()\n",
    "my_new_car.update_odometer(10)\n",
    "\n",
    "my_used_car = Car('subaru','outback',2013)\n",
    "print(my_used_car.get_descriptive_name())\n",
    "\n",
    "my_used_car.update_odometer(23500)\n",
    "my_used_car.read_odometer()\n",
    "\n",
    "my_used_car.increment_odometer(100)\n",
    "my_used_car.read_odometer()"
   ]
  },
  {
   "cell_type": "code",
   "execution_count": null,
   "metadata": {},
   "outputs": [],
   "source": [
    "#inheritance: original class = parent class, new class = child class\n",
    "#car.py\n",
    "class Car():\n",
    "    \"\"\"A simple attempt to represent a car.\"\"\"\n",
    "    def __init__(self, make, model, year):\n",
    "        \"\"\"Initialize attributes to describe a car.\"\"\"\n",
    "        self.make = make\n",
    "        self.model = model\n",
    "        self.year = year\n",
    "        self.odometer_reading = 0\n",
    "    \n",
    "    def get_descriptive_name(self):\n",
    "        \"\"\"Return a neatly formatted descriptive name.\"\"\"\n",
    "        long_name = str(self.year) + ' ' + self.make + ' ' + self.model\n",
    "        return long_name.title()\n",
    "    def read_odometer(self):\n",
    "        \"\"\"Print a statement about the car's mileage.\"\"\"\n",
    "        print(\"This car has \" + str(self.odometer_reading) + \" miles on it.\")\n",
    "    def update_odometer(self, mileage):\n",
    "        \"\"\"\n",
    "            Set the odometer reading to the given value.\n",
    "            Reject the change if it attempts to roll the odometer back\n",
    "            \"\"\"\n",
    "        if mileage >= self.odometer_reading:\n",
    "            self.odometer_reading = mileage\n",
    "        else:\n",
    "            print(\"You can't roll back an odometer!\")\n",
    "    def increment_odometer(self, miles):\n",
    "        \"\"\"Add the given amount to the odometer reading.\"\"\"\n",
    "        self.odometer_reading += miles\n",
    "\n",
    "class ElectricCar(Car):\n",
    "    \"\"\"Represents aspects of a car, specific to electric vehicles.\"\"\"\n",
    "    def __init__(self, make, model, year):\n",
    "        \"\"\"Initialize attributes of the parent class.\"\"\"\n",
    "        super().__init__(make, model, year)\n",
    "\n",
    "my_tesla = ElectricCar('tesla','model s', 2016)\n",
    "\n",
    "print(my_tesla.get_descriptive_name())"
   ]
  },
  {
   "cell_type": "code",
   "execution_count": null,
   "metadata": {},
   "outputs": [],
   "source": [
    "cd \"./Crash Course in Python\""
   ]
  },
  {
   "cell_type": "code",
   "execution_count": null,
   "metadata": {},
   "outputs": [],
   "source": [
    "import car.py as c\n"
   ]
  },
  {
   "cell_type": "code",
   "execution_count": null,
   "metadata": {},
   "outputs": [],
   "source": [
    "# %load car.py\n",
    "#car.py\n",
    "class Car():\n",
    "    \"\"\"A simple attempt to represent a car.\"\"\"\n",
    "    def __init__(self, make, model, year):\n",
    "        \"\"\"Initialize attributes to describe a car.\"\"\"\n",
    "        self.make = make\n",
    "        self.model = model\n",
    "        self.year = year\n",
    "        self.odometer_reading = 0\n",
    "    \n",
    "    def get_descriptive_name(self):\n",
    "        \"\"\"Return a neatly formatted descriptive name.\"\"\"\n",
    "        long_name = str(self.year) + ' ' + self.make + ' ' + self.model\n",
    "        return long_name.title()\n",
    "    def read_odometer(self):\n",
    "        \"\"\"Print a statement about the car's mileage.\"\"\"\n",
    "        print(\"This car has \" + str(self.odometer_reading) + \" miles on it.\")\n",
    "    def update_odometer(self, mileage):\n",
    "        \"\"\"\n",
    "            Set the odometer reading to the given value.\n",
    "            Reject the change if it attempts to roll the odometer back\n",
    "            \"\"\"\n",
    "        if mileage >= self.odometer_reading:\n",
    "            self.odometer_reading = mileage\n",
    "        else:\n",
    "            print(\"You can't roll back an odometer!\")\n",
    "    def increment_odometer(self, miles):\n",
    "        \"\"\"Add the given amount to the odometer reading.\"\"\"\n",
    "        self.odometer_reading += miles\n"
   ]
  },
  {
   "cell_type": "code",
   "execution_count": null,
   "metadata": {},
   "outputs": [],
   "source": [
    "from car import Car\n",
    "my_new_car = Car('audi','a4', 2016)\n",
    "print(my_new_car.get_descriptive_name())\n",
    "\n",
    "my_new_car.odometer_reading = 23\n",
    "my_new_car.read_odometer()\n"
   ]
  },
  {
   "cell_type": "code",
   "execution_count": null,
   "metadata": {},
   "outputs": [],
   "source": [
    "%%writefile car.py\n",
    "\n",
    "\"\"\"A set of classes used to represent gas and electric cars.\"\"\"\n",
    "\n",
    "from car import Cars\n",
    "\n",
    "class Battery():\n",
    "    "
   ]
  },
  {
   "cell_type": "code",
   "execution_count": null,
   "metadata": {},
   "outputs": [],
   "source": [
    "# %load car.py\n",
    "\n",
    "\"\"\"A set of classes used to represent gas and electric cars.\"\"\"\n",
    "\n",
    "from car import Cars\n",
    "\n",
    "class Battery():\n",
    "    "
   ]
  },
  {
   "cell_type": "code",
   "execution_count": null,
   "metadata": {},
   "outputs": [],
   "source": [
    "%%writefile car.py\n",
    "#car.py\n",
    "class Car():\n",
    "    \"\"\"A simple attempt to represent a car.\"\"\"\n",
    "    def __init__(self, make, model, year):\n",
    "        \"\"\"Initialize attributes to describe a car.\"\"\"\n",
    "        self.make = make\n",
    "        self.model = model\n",
    "        self.year = year\n",
    "        self.odometer_reading = 0\n",
    "    \n",
    "    def get_descriptive_name(self):\n",
    "        \"\"\"Return a neatly formatted descriptive name.\"\"\"\n",
    "        long_name = str(self.year) + ' ' + self.make + ' ' + self.model\n",
    "        return long_name.title()\n",
    "    def read_odometer(self):\n",
    "        \"\"\"Print a statement about the car's mileage.\"\"\"\n",
    "        print(\"This car has \" + str(self.odometer_reading) + \" miles on it.\")\n",
    "    def update_odometer(self, mileage):\n",
    "        \"\"\"\n",
    "            Set the odometer reading to the given value.\n",
    "            Reject the change if it attempts to roll the odometer back\n",
    "            \"\"\"\n",
    "        if mileage >= self.odometer_reading:\n",
    "            self.odometer_reading = mileage\n",
    "        else:\n",
    "            print(\"You can't roll back an odometer!\")\n",
    "    def increment_odometer(self, miles):\n",
    "        \"\"\"Add the given amount to the odometer reading.\"\"\"\n",
    "        self.odometer_reading += miles\n"
   ]
  },
  {
   "cell_type": "code",
   "execution_count": null,
   "metadata": {},
   "outputs": [],
   "source": [
    "%%writefile car.py\n",
    "#car.py\n",
    "class Car():\n",
    "    \"\"\"A simple attempt to represent a car.\"\"\"\n",
    "    def __init__(self, make, model, year):\n",
    "        \"\"\"Initialize attributes to describe a car.\"\"\"\n",
    "        self.make = make\n",
    "        self.model = model\n",
    "        self.year = year\n",
    "        self.odometer_reading = 0\n",
    "    \n",
    "    def get_descriptive_name(self):\n",
    "        \"\"\"Return a neatly formatted descriptive name.\"\"\"\n",
    "        long_name = str(self.year) + ' ' + self.make + ' ' + self.model\n",
    "        return long_name.title()\n",
    "    def read_odometer(self):\n",
    "        \"\"\"Print a statement about the car's mileage.\"\"\"\n",
    "        print(\"This car has \" + str(self.odometer_reading) + \" miles on it.\")\n",
    "    def update_odometer(self, mileage):\n",
    "        \"\"\"\n",
    "            Set the odometer reading to the given value.\n",
    "            Reject the change if it attempts to roll the odometer back\n",
    "            \"\"\"\n",
    "        if mileage >= self.odometer_reading:\n",
    "            self.odometer_reading = mileage\n",
    "        else:\n",
    "            print(\"You can't roll back an odometer!\")\n",
    "    def increment_odometer(self, miles):\n",
    "        \"\"\"Add the given amount to the odometer reading.\"\"\"\n",
    "        self.odometer_reading += miles"
   ]
  },
  {
   "cell_type": "code",
   "execution_count": null,
   "metadata": {},
   "outputs": [],
   "source": [
    "#%%writefile car.py\n",
    "#car.py\n",
    "class Car():\n",
    "    \"\"\"A simple attempt to represent a car.\"\"\"\n",
    "    def __init__(self, make, model, year):\n",
    "        \"\"\"Initialize attributes to describe a car.\"\"\"\n",
    "        self.make = make\n",
    "        self.model = model\n",
    "        self.year = year\n",
    "        self.odometer_reading = 0\n",
    "    \n",
    "    def get_descriptive_name(self):\n",
    "        \"\"\"Return a neatly formatted descriptive name.\"\"\"\n",
    "        long_name = str(self.year) + ' ' + self.make + ' ' + self.model\n",
    "        return long_name.title()\n",
    "    def read_odometer(self):\n",
    "        \"\"\"Print a statement about the car's mileage.\"\"\"\n",
    "        print(\"This car has \" + str(self.odometer_reading) + \" miles on it.\")\n",
    "    def update_odometer(self, mileage):\n",
    "        \"\"\"\n",
    "            Set the odometer reading to the given value.\n",
    "            Reject the change if it attempts to roll the odometer back\n",
    "            \"\"\"\n",
    "        if mileage >= self.odometer_reading:\n",
    "            self.odometer_reading = mileage\n",
    "        else:\n",
    "            print(\"You can't roll back an odometer!\")\n",
    "    def increment_odometer(self, miles):\n",
    "        \"\"\"Add the given amount to the odometer reading.\"\"\"\n",
    "        self.odometer_reading += miles\n",
    "        \n",
    "class Battery():\n",
    "    \"\"\"A simple attempt to model a battery for an electric car.\"\"\"\n",
    "    def __init__(self, battery_size = 70):\n",
    "        \"\"\"Initialize the battery's attributes.\"\"\"\n",
    "        self.battery_size = battery_size\n",
    "        \n",
    "    def describe_battery(self):\n",
    "        \"\"\"Print a statement describing the battery size.\"\"\"\n",
    "        print(\"This car has a \" + str(self.battery_size) + \"-kWh battery.\")\n",
    "        \n",
    "    def get_range(self):\n",
    "        \"\"\"Print a statement about the range this battery provides.\"\"\"\n",
    "        if self.battery_size == 70:\n",
    "            range =240\n",
    "        elif self.battery_size == 85:\n",
    "            range = 270\n",
    "        message = \"this car can go approxiametely \" + str(range)\n",
    "        message += \" miles on a full charge.\"\n",
    "        print(message)\n",
    "    \n",
    "class ElectricCar(Car):\n",
    "    \"\"\"Models aspects of a car, specific to electric vehicles.\"\"\"\n",
    "    def __init__(self, make, model, year):\n",
    "        \"\"\"Initialize attributes of the parent class.\"\"\" \n",
    "        \"\"\"Then initialize attributes specific to an electric car.\"\"\"\n",
    "        super().__init__(make, model, year)\n",
    "        self.battery = Battery()\n",
    "        \n",
    "my_tesla = ElectricCar('tesla','model s', 2016)\n",
    "\n",
    "print(my_tesla.get_descriptive_name())\n",
    "print(my_tesla.get_range())"
   ]
  },
  {
   "cell_type": "code",
   "execution_count": null,
   "metadata": {},
   "outputs": [],
   "source": [
    "from car import ElectricCar, Car, Battery\n",
    "\n",
    "my_tesla = ElectricCar('tesla','model s', 2016)\n",
    "\n",
    "print(my_tesla.get_descriptive_name())"
   ]
  },
  {
   "cell_type": "code",
   "execution_count": null,
   "metadata": {},
   "outputs": [],
   "source": [
    "%run car.py"
   ]
  },
  {
   "cell_type": "code",
   "execution_count": null,
   "metadata": {},
   "outputs": [],
   "source": [
    "import car\n",
    "my_beetle = car.Car('volkswagen','beetle',2016)\n",
    "print(my_beetle.get_descriptive_name())\n",
    "\n",
    "my_tesla = car.ElectricCar('tesla','roadster',2016)\n",
    "print(my_tesla.get_descriptive_name())"
   ]
  },
  {
   "cell_type": "code",
   "execution_count": null,
   "metadata": {},
   "outputs": [],
   "source": [
    "#favorite_languages.py\n",
    "from collections import OrderedDict\n",
    "favorite_languages = OrderedDict()\n",
    "\n",
    "favorite_languages['jen'] = 'python'\n",
    "favorite_languages['sarah'] = 'c'\n",
    "favorite_languages['edward'] = 'ruby'\n",
    "favorite_languages['phil'] = 'python'\n",
    "\n",
    "for name, language in favorite_languages.items():\n",
    "    print(name.title() + \"'s favorite language is \" + language.title() + \".\")"
   ]
  },
  {
   "cell_type": "code",
   "execution_count": 24,
   "metadata": {},
   "outputs": [
    {
     "name": "stdout",
     "output_type": "stream",
     "text": [
      "\t count, 1number of rolls, 10\n",
      "19\n",
      "\t count, 2number of rolls, 10\n",
      "20\n",
      "\t count, 3number of rolls, 10\n",
      "14\n",
      "\t count, 4number of rolls, 10\n",
      "2\n",
      "\t count, 5number of rolls, 10\n",
      "10\n",
      "\t count, 6number of rolls, 10\n",
      "1\n",
      "\t count, 7number of rolls, 10\n",
      "17\n",
      "\t count, 8number of rolls, 10\n",
      "1\n",
      "\t count, 9number of rolls, 10\n",
      "13\n"
     ]
    }
   ],
   "source": [
    "from random import randint\n",
    "class Dice():\n",
    "    \"\"\"6 sided and 20 sided die simulator.\"\"\"\n",
    "    def __init__(self, sides=20):\n",
    "        \"\"\"Initialize method with default value of 6 sided.\"\"\"\n",
    "        self.sides = sides\n",
    "    def roll_die(self):\n",
    "        \"\"\"Prints a random number between 1 and number of sides of die.\"\"\"\n",
    "        die_value = randint(1, self.sides)\n",
    "        return die_value\n",
    "count = 1\n",
    "number_of_rolls = 10\n",
    "while count < number_of_rolls:\n",
    "    print(\"\\t count, \" + str(count) + \"number of rolls, \" + str(number_of_rolls))\n",
    "    my_roll = Dice()\n",
    "    print(my_roll.roll_die())\n",
    "    count += 1"
   ]
  },
  {
   "cell_type": "code",
   "execution_count": 25,
   "metadata": {},
   "outputs": [
    {
     "name": "stdout",
     "output_type": "stream",
     "text": [
      "Overwriting pi_digits.txt\n"
     ]
    }
   ],
   "source": [
    "%%writefile pi_digits.txt\n",
    "3.1415926535\n",
    " 8979323846\n",
    " 2643383279"
   ]
  },
  {
   "cell_type": "code",
   "execution_count": 26,
   "metadata": {},
   "outputs": [
    {
     "ename": "IndentationError",
     "evalue": "unexpected indent (<ipython-input-26-a584331cc23a>, line 3)",
     "output_type": "error",
     "traceback": [
      "\u001b[1;36m  File \u001b[1;32m\"<ipython-input-26-a584331cc23a>\"\u001b[1;36m, line \u001b[1;32m3\u001b[0m\n\u001b[1;33m    8979323846\u001b[0m\n\u001b[1;37m    ^\u001b[0m\n\u001b[1;31mIndentationError\u001b[0m\u001b[1;31m:\u001b[0m unexpected indent\n"
     ]
    }
   ],
   "source": [
    "# %load pi_digits.txt\n",
    "3.1415926535\n",
    " 8979323846\n",
    " 2643383279"
   ]
  },
  {
   "cell_type": "code",
   "execution_count": null,
   "metadata": {},
   "outputs": [],
   "source": [
    "%%writefile file_reader.py\n",
    "file_name = 'pi_digits.txt'\n",
    "with open(file_name) as file_object:\n",
    "    for line in file_object:\n",
    "        print(line.rstrip())"
   ]
  },
  {
   "cell_type": "code",
   "execution_count": null,
   "metadata": {},
   "outputs": [],
   "source": [
    "file_name = 'pi_million_digits.txt'\n",
    "\n",
    "with open(file_name) as file_object:\n",
    "    lines = file_object.readlines()\n",
    "\n",
    "pi_string = ''\n",
    "for line in lines:\n",
    "    pi_string +=line.rstrip()\n",
    "    \n",
    "birthday = input(\"Enter your birthday, in the form mmddyy \")\n",
    "if birthday in pi_string:\n",
    "    print(\"Your birthday appears in the first million digits of pi!\")\n",
    "else:\n",
    "    print(\"Your birthday does not appear in the first million digits of pi.\")\n",
    "\n",
    "    "
   ]
  },
  {
   "cell_type": "code",
   "execution_count": null,
   "metadata": {},
   "outputs": [],
   "source": [
    "filename = 'programming.txt'\n",
    "\n",
    "with open(filename, 'a') as file_object:\n",
    "    file_object.write(\"I love finding meaning in large data sets!\\n\")\n",
    "    file_object.write(\"I love creating apps that can run in a browser.\")"
   ]
  },
  {
   "cell_type": "code",
   "execution_count": null,
   "metadata": {},
   "outputs": [],
   "source": [
    "# %load programming.txt\n",
    "I love programming!\n",
    "I love creating new games.I love finding meaning in large data sets!\n",
    "I love creating apps that can run in a browser."
   ]
  },
  {
   "cell_type": "code",
   "execution_count": null,
   "metadata": {},
   "outputs": [],
   "source": [
    "# %load guest.txt\n",
    "Stephen"
   ]
  },
  {
   "cell_type": "code",
   "execution_count": null,
   "metadata": {},
   "outputs": [],
   "source": [
    "try:\n",
    "    print(5/0)\n",
    "except ZeroDivisionError:\n",
    "    print(\"You can not divide by zero!\")"
   ]
  },
  {
   "cell_type": "code",
   "execution_count": null,
   "metadata": {},
   "outputs": [],
   "source": [
    "#division.py\n",
    "print(\"Give me two numbers, and I'll divide them.\")\n",
    "print(\"Enter 'q' to quit.\")\n",
    "\n",
    "while True:\n",
    "    first_number = input(\"\\nFirst number: \")\n",
    "    if first_number == 'q':\n",
    "        break\n",
    "    second_number = input(\"\\nSecond number: \")\n",
    "    try:\n",
    "        answer = int(first_number)/int(second_number)\n",
    "    except ZeroDivisionError:\n",
    "        print(\"You can't divide by zero!\")\n",
    "    else:\n",
    "        print(answer)"
   ]
  },
  {
   "cell_type": "code",
   "execution_count": null,
   "metadata": {},
   "outputs": [],
   "source": [
    "#alice.py\n",
    "filename = 'alice.txt'\n",
    "\n",
    "try:\n",
    "    with open(filename) as f_obj:\n",
    "        contents = f_obj.read()\n",
    "except FileNotFoundError:\n",
    "    msg = \"Sorry, the file \" + filename + \" does not exist.\"\n",
    "    print(msg)\n",
    "else:\n",
    "    #Count the approximate number of words in the file.\n",
    "    words = contents.split()\n",
    "    num_words = len(words)\n",
    "    print(\"The file \" + filename + \" has about \" + str(num_words) + \" words\")"
   ]
  },
  {
   "cell_type": "code",
   "execution_count": null,
   "metadata": {},
   "outputs": [],
   "source": [
    "def count_words(filename):\n",
    "    \"\"\"Count the number of words in a file.\"\"\"\n",
    "    try:\n",
    "        with open(filename) as f_obj:\n",
    "            contents = f_obj.read()\n",
    "    except FileNotFoundError:\n",
    "        msg = \"Sorry, the file \" + filename + \" does not exist.\"\n",
    "        print(msg)\n",
    "    else:\n",
    "        #Count the approximate number of words in the file.\n",
    "        words = contents.split()\n",
    "        num_words = len(words)\n",
    "        print(\"The file \" + filename + \" has about \" + str(num_words) + \" words\")\n",
    "\n",
    "filenames = ['alice.txt','siddhartha.txt','moby_dick.txt']\n",
    "for filename in filenames:\n",
    "    count_words(filename)"
   ]
  },
  {
   "cell_type": "code",
   "execution_count": null,
   "metadata": {},
   "outputs": [],
   "source": [
    "#number_writer.py\n",
    "import json\n",
    "\n",
    "numbers = [2,3,5,7,11,13]\n",
    "\n",
    "filename = 'numbers.json'\n",
    "with open(filename, 'w') as f_obj:\n",
    "    json.dump(numbers, f_obj)"
   ]
  },
  {
   "cell_type": "code",
   "execution_count": null,
   "metadata": {},
   "outputs": [],
   "source": [
    "# %load numbers.json\n",
    "[2, 3, 5, 7, 11, 13]"
   ]
  },
  {
   "cell_type": "code",
   "execution_count": null,
   "metadata": {},
   "outputs": [],
   "source": [
    "#number_reader.py\n",
    "import json\n",
    "\n",
    "filename = 'numbers.json'\n",
    "with open(filename) as f_obj:\n",
    "    numbers = json.load(f_obj)\n",
    "    \n",
    "print(numbers)"
   ]
  },
  {
   "cell_type": "code",
   "execution_count": null,
   "metadata": {},
   "outputs": [],
   "source": [
    "#remember_me.py\n",
    "import json\n",
    "\n",
    "username = input(\"What is your name?\")\n",
    "\n",
    "filename = 'username.json'\n",
    "with open(filename, 'w') as f_obj:\n",
    "    json.dump(username, f_obj)\n",
    "    print(\"We'll remember you when you come back, \" + username + \"!\")"
   ]
  },
  {
   "cell_type": "code",
   "execution_count": null,
   "metadata": {},
   "outputs": [],
   "source": [
    "#greet_user.py\n",
    "import json\n",
    "\n",
    "filename = 'username.json'\n",
    "\n",
    "with open(filename) as f_obj:\n",
    "    username = json.load(f_obj)\n",
    "    print(\"Welcome back, \" + username + \"!\")"
   ]
  },
  {
   "cell_type": "code",
   "execution_count": null,
   "metadata": {},
   "outputs": [],
   "source": [
    "#remember_me.py\n",
    "import json\n",
    "\n",
    "#Load the username, if it has been stored previously.\n",
    "#Otherwise, prompt for the username and store it.\n",
    "\n",
    "filename= 'username.json'\n",
    "try:\n",
    "    with open(filename) as f_obj:\n",
    "        username = json.load(f_obj)\n",
    "except FileNotFoundError:\n",
    "    username = input(\"What is your name? \")\n",
    "    with open(filename, 'w') as f_obj:\n",
    "        json.dump(username, f_obj)\n",
    "        print(\"We'll remember you when you come back, \" + username + \"!\")\n",
    "else:\n",
    "    print(\"Welcome back, \" + username + \"!\")"
   ]
  },
  {
   "cell_type": "code",
   "execution_count": null,
   "metadata": {},
   "outputs": [],
   "source": [
    "#remember_me.py\n",
    "import json\n",
    "\n",
    "#Load the username, if it has been stored previously.\n",
    "#Otherwise, prompt for the username and store it.\n",
    "\n",
    "def greet_user():\n",
    "    \"\"\"Greet the user by name.\"\"\"\n",
    "    filename= 'username.json'\n",
    "    try:\n",
    "        with open(filename) as f_obj:\n",
    "            username = json.load(f_obj)\n",
    "    except FileNotFoundError:\n",
    "        username = input(\"What is your name? \")\n",
    "        with open(filename, 'w') as f_obj:\n",
    "            json.dump(username, f_obj)\n",
    "            print(\"We'll remember you when you come back, \" + username + \"!\")\n",
    "    else:\n",
    "        print(\"Welcome back, \" + username + \"!\")\n",
    "        \n",
    "greet_user()"
   ]
  },
  {
   "cell_type": "code",
   "execution_count": null,
   "metadata": {},
   "outputs": [],
   "source": [
    "# %load test_name_function.py\n",
    "import unittest\n",
    "from name_function import get_formatted_name\n",
    "\n",
    "class NamesTestCase(unittest.TestCase):\n",
    "    \"\"\"Tests for 'name_function.py'.\"\"\"\n",
    "    \n",
    "    def test_first_last_name(self):\n",
    "        formatted_name = get_formatted_name('janis', 'joplin')\n",
    "        self.assertEqual(formatted_name, 'Janis Joplin')\n",
    "        \n",
    "    def test_first_last_middle_name(self):\n",
    "        formatted_name = get_formatted_name(\n",
    "            'wolfgang', 'mozart', 'amadeus')\n",
    "        self.assertEqual(formatted_name, 'Wolfgang Amadeus Mozart')\n",
    "            \n",
    "\n",
    "unittest.main()\n"
   ]
  },
  {
   "cell_type": "code",
   "execution_count": null,
   "metadata": {},
   "outputs": [],
   "source": [
    "import matplotlib.pyplot as plt\n",
    "\n",
    "square = [1,4,9,16,25]\n",
    "\n",
    "plt.plot(square)\n",
    "plt.show()"
   ]
  },
  {
   "cell_type": "code",
   "execution_count": 30,
   "metadata": {},
   "outputs": [
    {
     "data": {
      "image/png": "[encoded data removed]",
      "text/plain": [
       "<Figure size 432x288 with 1 Axes>"
      ]
     },
     "metadata": {},
     "output_type": "display_data"
    }
   ],
   "source": [
    "import matplotlib.pyplot as plt\n",
    "plt.plot([1,2,3,4])\n",
    "plt.show()"
   ]
  },
  {
   "cell_type": "code",
   "execution_count": 31,
   "metadata": {},
   "outputs": [
    {
     "data": {
      "image/png": "[encoded data removed]",
      "text/plain": [
       "<Figure size 432x288 with 1 Axes>"
      ]
     },
     "metadata": {},
     "output_type": "display_data"
    }
   ],
   "source": [
    "#mpl_squares.py\n",
    "import matplotlib.pyplot as plt\n",
    "\n",
    "input_values = [1,2,3,4,5]\n",
    "squares = [1,4,9,16,25]\n",
    "plt.plot(input_values, squares, linewidth=5)\n",
    "\n",
    "#Set Chart title and label axis\n",
    "plt.title(\"Square Numbers\", fontsize=24)\n",
    "plt.xlabel(\"Value\", fontsize=14)\n",
    "plt.ylabel(\"Square of Value\", fontsize=14)\n",
    "\n",
    "#Set size of tick labels\n",
    "plt.tick_params(axis='both', labelsize=14)\n",
    "\n",
    "plt.show()"
   ]
  },
  {
   "cell_type": "code",
   "execution_count": 32,
   "metadata": {},
   "outputs": [
    {
     "data": {
      "image/png": "[encoded data removed]",
      "text/plain": [
       "<Figure size 432x288 with 1 Axes>"
      ]
     },
     "metadata": {},
     "output_type": "display_data"
    }
   ],
   "source": [
    "#scatter_squares.py\n",
    "import matplotlib.pyplot as plt\n",
    "\n",
    "#x_values=[1,2,3,4,5]\n",
    "#y_values=[]\n",
    "\n",
    "#for x_value in x_values:\n",
    "#    y_values.append(x_value**2)\n",
    "\n",
    "x_values = list(range(1,1001))\n",
    "y_values = [x**2 for x in x_values]\n",
    "\n",
    "plt.scatter(x_values,y_values, s=10, c='red')\n",
    "\n",
    "#Set Chart title and label axis\n",
    "plt.title(\"Square Numbers\", fontsize=24)\n",
    "plt.xlabel(\"Value\", fontsize=14)\n",
    "plt.ylabel(\"Square of Value\", fontsize=14)\n",
    "\n",
    "#Set size of tick labels\n",
    "plt.tick_params(axis='both', which='major', labelsize=14)\n",
    "\n",
    "#Set the range for each axis\n",
    "plt.axis([0,1100, 0, 1100000])\n",
    "\n",
    "plt.savefig('squares_plot.png')\n",
    "plt.show()"
   ]
  },
  {
   "cell_type": "code",
   "execution_count": 33,
   "metadata": {},
   "outputs": [
    {
     "data": {
      "image/png": "[encoded data removed]",
      "text/plain": [
       "<Figure size 432x288 with 1 Axes>"
      ]
     },
     "metadata": {},
     "output_type": "display_data"
    }
   ],
   "source": [
    "import matplotlib.pyplot as plt\n",
    "\n",
    "x_values = list(range(1,10))\n",
    "y_values= [x**2 for x in x_values]\n",
    "\n",
    "\n",
    "\n",
    "plt.title(\"Stephen's Cubes\")\n",
    "plt.xlabel(\"Input Values\")\n",
    "plt.ylabel(\"Output Values\")\n",
    "\n",
    "plt.plot(x_values, y_values)\n",
    "plt.show()\n"
   ]
  },
  {
   "cell_type": "code",
   "execution_count": 34,
   "metadata": {},
   "outputs": [
    {
     "name": "stdout",
     "output_type": "stream",
     "text": [
      "Overwriting random_walk.py\n"
     ]
    }
   ],
   "source": [
    "%%writefile random_walk.py\n",
    "from random import choice\n",
    "\n",
    "class RandomWalk():\n",
    "    \"\"\"A class to generate random walks.\"\"\"\n",
    "    \n",
    "    def __init__(self, num_points=5000):\n",
    "        \"\"\"Initialize attributes of a walk.\"\"\"\n",
    "        self.num_points = num_points\n",
    "    \n",
    "        #All walks start at (0,0)\n",
    "        self.x_values = [0]\n",
    "        self.y_values = [0]\n",
    "    \n",
    "    def fill_walk(self):\n",
    "        \"\"\"Calculate all the points in the walk.\"\"\"\n",
    "        #Keep taking steps until the walk reaches the desired length.\n",
    "        while len(self.x_values) < self.num_points:\n",
    "            #Decide which direction to go and how far to go in that direction.\n",
    "            x_direction = choice([1,-1])\n",
    "            x_distance = choice([0, 1,2,3,4,0,0,1,1])\n",
    "            x_step = x_direction*x_distance\n",
    "        \n",
    "            y_direction = choice([1,-1])\n",
    "            y_distance = choice([0, 1, 2, 3, 4,0,0,1,1])\n",
    "            y_step = y_direction*y_distance\n",
    "            \n",
    "            #Reject moves that go nowhere.\n",
    "            if x_step == 0 and y_step == 0:\n",
    "                continue\n",
    "            \n",
    "            #Calculate the next x and y values.\n",
    "            next_x = self.x_values[-1] + x_step\n",
    "            next_y = self.y_values[-1] + y_step\n",
    "            \n",
    "            self.x_values.append(next_x)\n",
    "            self.y_values.append(next_y)\n",
    "        \n",
    "    "
   ]
  },
  {
   "cell_type": "code",
   "execution_count": 35,
   "metadata": {},
   "outputs": [
    {
     "name": "stdout",
     "output_type": "stream",
     "text": [
      "5000\n"
     ]
    },
    {
     "data": {
      "image/png": "[encoded data removed]",
      "text/plain": [
       "<Figure size 432x288 with 1 Axes>"
      ]
     },
     "metadata": {},
     "output_type": "display_data"
    }
   ],
   "source": [
    "import matplotlib.pyplot as plt\n",
    "\n",
    "from random_walk import RandomWalk\n",
    "\n",
    "#Make a random walk, and plot the points\n",
    "\n",
    "rw = RandomWalk()\n",
    "\n",
    "print(rw.num_points)\n",
    "rw.fill_walk()\n",
    "\n",
    "plt.scatter(rw.x_values, rw.y_values, s=15)\n",
    "plt.scatter(0,0, s = 100, c='red')\n",
    "\n",
    "plt.show()\n",
    "\n"
   ]
  },
  {
   "cell_type": "code",
   "execution_count": null,
   "metadata": {},
   "outputs": [],
   "source": [
    "# %load rw_visual.py\n",
    "import matplotlib.pyplot as plt\n",
    "\n",
    "from random_walk import RandomWalk\n",
    "\n",
    "# Keep making new walks, as long as the program is active.\n",
    "while True:\n",
    "    # Make a random walk, and plot the points.\n",
    "    rw = RandomWalk(5)\n",
    "    rw.fill_walk()\n",
    "    \n",
    "    # Set the size of the plotting window.\n",
    "    plt.figure(dpi=128, figsize=(10, 6))\n",
    "    \n",
    "    point_numbers = list(range(rw.num_points))\n",
    "    #plt.scatter(rw.x_values, rw.y_values, c=point_numbers, cmap=plt.cm.Blues,\n",
    "    #    edgecolor='none', s=1)\n",
    "    plt.plot(rw.x_values, rw.y_values)\n",
    "        \n",
    "    # Emphasize the first and last points.\n",
    "    plt.scatter(0, 0, c='green', edgecolors='none', s=100)\n",
    "    plt.scatter(rw.x_values[-1], rw.y_values[-1], c='red', edgecolors='none',\n",
    "        s=100)\n",
    "        \n",
    "    # Remove the axes.\n",
    "    plt.axes().get_xaxis().set_visible(False)\n",
    "    plt.axes().get_yaxis().set_visible(False)\n",
    "        \n",
    "    plt.show()\n",
    "    \n",
    "    keep_running = input(\"Make another walk? (y/n): \")\n",
    "    if keep_running == 'n':\n",
    "        break\n"
   ]
  },
  {
   "cell_type": "code",
   "execution_count": null,
   "metadata": {},
   "outputs": [],
   "source": [
    "import pygal"
   ]
  },
  {
   "cell_type": "code",
   "execution_count": null,
   "metadata": {},
   "outputs": [],
   "source": [
    "%%writefile die.py\n",
    "from random import randint\n",
    "\n",
    "class Die():\n",
    "    \"\"\"A class representing a single die.\"\"\"\n",
    "    \n",
    "    def __init__(self, num_sides=6):\n",
    "        \"\"\"Assume a six sided die.\"\"\"\n",
    "        self.num_sides = num_sides\n",
    "    \n",
    "    def roll(self):\n",
    "        \"\"\"Return a random value between 1 and number of sides.\"\"\"\n",
    "        return randint(1,self.num_sides)\n",
    "        "
   ]
  },
  {
   "cell_type": "code",
   "execution_count": null,
   "metadata": {},
   "outputs": [],
   "source": [
    "%load die.py"
   ]
  },
  {
   "cell_type": "code",
   "execution_count": null,
   "metadata": {},
   "outputs": [],
   "source": []
  }
 ],
 "metadata": {
  "kernelspec": {
   "display_name": "Python 3",
   "language": "python",
   "name": "python3"
  },
  "language_info": {
   "codemirror_mode": {
    "name": "ipython",
    "version": 3
   },
   "file_extension": ".py",
   "mimetype": "text/x-python",
   "name": "python",
   "nbconvert_exporter": "python",
   "pygments_lexer": "ipython3",
   "version": "3.7.1"
  }
 },
 "nbformat": 4,
 "nbformat_minor": 2
}
