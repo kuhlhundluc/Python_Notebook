{
 "cells": [
  {
   "cell_type": "code",
   "execution_count": 1,
   "metadata": {
    "collapsed": false
   },
   "outputs": [
    {
     "name": "stdout",
     "output_type": "stream",
     "text": [
      "Hello World!\n"
     ]
    }
   ],
   "source": [
    "print(\"Hello World!\")"
   ]
  },
  {
   "cell_type": "code",
   "execution_count": null,
   "metadata": {
    "collapsed": false
   },
   "outputs": [],
   "source": [
    "\n"
   ]
  },
  {
   "cell_type": "code",
   "execution_count": 3,
   "metadata": {
    "collapsed": false
   },
   "outputs": [
    {
     "data": {
      "text/plain": [
       "'C:\\\\Users\\\\JenandStephen\\\\Google Drive\\\\Python Notebook\\\\Crash Course in Python'"
      ]
     },
     "execution_count": 3,
     "metadata": {},
     "output_type": "execute_result"
    }
   ],
   "source": [
    "pwd"
   ]
  },
  {
   "cell_type": "code",
   "execution_count": null,
   "metadata": {
    "collapsed": false
   },
   "outputs": [],
   "source": [
    "ls"
   ]
  },
  {
   "cell_type": "code",
   "execution_count": null,
   "metadata": {
    "collapsed": false
   },
   "outputs": [],
   "source": [
    "cd ..\n"
   ]
  },
  {
   "cell_type": "code",
   "execution_count": null,
   "metadata": {
    "collapsed": false
   },
   "outputs": [],
   "source": [
    "ls\n"
   ]
  },
  {
   "cell_type": "code",
   "execution_count": 4,
   "metadata": {
    "collapsed": false
   },
   "outputs": [
    {
     "ename": "SyntaxError",
     "evalue": "invalid syntax (<ipython-input-4-0ee01b73791c>, line 1)",
     "output_type": "error",
     "traceback": [
      "\u001b[0;36m  File \u001b[0;32m\"<ipython-input-4-0ee01b73791c>\"\u001b[0;36m, line \u001b[0;32m1\u001b[0m\n\u001b[0;31m    python hello_world.py\u001b[0m\n\u001b[0m                     ^\u001b[0m\n\u001b[0;31mSyntaxError\u001b[0m\u001b[0;31m:\u001b[0m invalid syntax\n"
     ]
    }
   ],
   "source": [
    "python hello_world.py\n"
   ]
  },
  {
   "cell_type": "code",
   "execution_count": 5,
   "metadata": {
    "collapsed": false
   },
   "outputs": [
    {
     "name": "stdout",
     "output_type": "stream",
     "text": [
      "Hello World!\n"
     ]
    }
   ],
   "source": [
    "# %load hello_world.py\n",
    "print(\"Hello World!\")\n"
   ]
  },
  {
   "cell_type": "code",
   "execution_count": 6,
   "metadata": {
    "collapsed": false
   },
   "outputs": [
    {
     "name": "stdout",
     "output_type": "stream",
     "text": [
      "Hello World!\n"
     ]
    }
   ],
   "source": [
    "%run hello_world.py\n"
   ]
  },
  {
   "cell_type": "code",
   "execution_count": 7,
   "metadata": {
    "collapsed": false
   },
   "outputs": [
    {
     "name": "stdout",
     "output_type": "stream",
     "text": [
      "Hello Python World\n",
      "Hello Python Crash Course World\n"
     ]
    }
   ],
   "source": [
    "message = \"Hello Python World\"\n",
    "print(message)\n",
    "\n",
    "message = \"Hello Python Crash Course World\"\n",
    "print(message)"
   ]
  },
  {
   "cell_type": "code",
   "execution_count": null,
   "metadata": {
    "collapsed": true
   },
   "outputs": [],
   "source": [
    "#Variable names can only contain letters, numbers, and underscores\n",
    "#must start with letter or underscore, but not a number\n",
    "#Spaces are not allowed in variable names\n",
    "#Avoid python keywords.  Also avoid common other program languages key words.\n",
    "#careful with l and 0 or 1 and o....\n"
   ]
  },
  {
   "cell_type": "code",
   "execution_count": null,
   "metadata": {
    "collapsed": false
   },
   "outputs": [],
   "source": [
    "message "
   ]
  },
  {
   "cell_type": "code",
   "execution_count": 10,
   "metadata": {
    "collapsed": false
   },
   "outputs": [
    {
     "ename": "NameError",
     "evalue": "name 'mesage' is not defined",
     "output_type": "error",
     "traceback": [
      "\u001b[0;31m---------------------------------------------------------------------------\u001b[0m",
      "\u001b[0;31mNameError\u001b[0m                                 Traceback (most recent call last)",
      "\u001b[0;32m<ipython-input-10-06013cf6df75>\u001b[0m in \u001b[0;36m<module>\u001b[0;34m()\u001b[0m\n\u001b[1;32m      1\u001b[0m \u001b[0mmessage\u001b[0m \u001b[1;33m=\u001b[0m \u001b[1;34m\"Hello Python Crash Course World\"\u001b[0m\u001b[1;33m\u001b[0m\u001b[0m\n\u001b[0;32m----> 2\u001b[0;31m \u001b[0mprint\u001b[0m\u001b[1;33m(\u001b[0m\u001b[0mmesage\u001b[0m\u001b[1;33m)\u001b[0m\u001b[1;33m\u001b[0m\u001b[0m\n\u001b[0m",
      "\u001b[0;31mNameError\u001b[0m: name 'mesage' is not defined"
     ]
    }
   ],
   "source": [
    "message = \"Hello Python Crash Course World\"\n",
    "print(mesage)"
   ]
  },
  {
   "cell_type": "code",
   "execution_count": 8,
   "metadata": {
    "collapsed": false
   },
   "outputs": [
    {
     "name": "stderr",
     "output_type": "stream",
     "text": [
      "ERROR:root:File `'simple_message.py'` not found.\n"
     ]
    }
   ],
   "source": [
    "%run simple_message.py\n"
   ]
  },
  {
   "cell_type": "code",
   "execution_count": 11,
   "metadata": {
    "collapsed": false
   },
   "outputs": [
    {
     "name": "stdout",
     "output_type": "stream",
     "text": [
      "These are not the droids you are looking for.\n",
      "These are not the droids you are looking for.\n"
     ]
    }
   ],
   "source": [
    "# %load simple_message.py\n",
    "#simple_message2.py\n",
    "\n",
    "message1=\"These are not the droids you are looking for.\"\n",
    "message2=\"These are not the droids we are looking for.\"\n",
    "\n",
    "message2=message1\n",
    "\n",
    "print(message1)\n",
    "print(message2)\n",
    "\n",
    "#%writefile simple_message1.py\n",
    "#couldn't get this to work"
   ]
  },
  {
   "cell_type": "code",
   "execution_count": null,
   "metadata": {
    "collapsed": false
   },
   "outputs": [],
   "source": [
    "#\"This is a string\"\n",
    "#'This is also a string'"
   ]
  },
  {
   "cell_type": "code",
   "execution_count": 12,
   "metadata": {
    "collapsed": false
   },
   "outputs": [
    {
     "name": "stdout",
     "output_type": "stream",
     "text": [
      "Ada Lovelace\n",
      "ADA LOVELACE\n",
      "ada lovelace\n",
      "ada lovelace\n",
      "\tHello, Ada Lovelace!\n"
     ]
    }
   ],
   "source": [
    "#name.py\n",
    "name = \"ada lovelace\"\n",
    "\n",
    "print(name.title())\n",
    "name = \"Ada Lovelace\"\n",
    "print(name.upper())\n",
    "print(name.lower())\n",
    "\n",
    "first_name = \"ada\"\n",
    "last_name = \"lovelace\"\n",
    "full_name = first_name + \" \" + last_name\n",
    "\n",
    "print(full_name)\n",
    "\n",
    "message = \"\\tHello, \" + full_name.title() + \"!\"\n",
    "#notice that \n",
    "\n",
    "print(message)"
   ]
  },
  {
   "cell_type": "code",
   "execution_count": 13,
   "metadata": {
    "collapsed": false
   },
   "outputs": [
    {
     "name": "stdout",
     "output_type": "stream",
     "text": [
      "python \n",
      "python\n",
      "python \n"
     ]
    }
   ],
   "source": [
    "favorite_language = 'python '\n",
    "print(favorite_language)\n",
    "print(favorite_language.rstrip())\n",
    "print(favorite_language)\n",
    "#to strip the right side .rstrip()\n",
    "#to strip the left side of whitespace --> .lstrip()\n",
    "#to strip both sides of whitespace ---> .strip()"
   ]
  },
  {
   "cell_type": "code",
   "execution_count": null,
   "metadata": {
    "collapsed": false
   },
   "outputs": [],
   "source": [
    "cd \"Crash Course in Python\"\n"
   ]
  },
  {
   "cell_type": "code",
   "execution_count": 14,
   "metadata": {
    "collapsed": false
   },
   "outputs": [
    {
     "data": {
      "text/plain": [
       "'C:\\\\Users\\\\JenandStephen\\\\Google Drive\\\\Python Notebook\\\\Crash Course in Python'"
      ]
     },
     "execution_count": 14,
     "metadata": {},
     "output_type": "execute_result"
    }
   ],
   "source": [
    "pwd"
   ]
  },
  {
   "cell_type": "code",
   "execution_count": 15,
   "metadata": {
    "collapsed": false
   },
   "outputs": [
    {
     "ename": "SyntaxError",
     "evalue": "invalid syntax (apostrophe.py, line 2)",
     "output_type": "error",
     "traceback": [
      "\u001b[0;36m  File \u001b[0;32m\"C:\\Users\\JenandStephen\\Google Drive\\Python Notebook\\Crash Course in Python\\apostrophe.py\"\u001b[0;36m, line \u001b[0;32m2\u001b[0m\n\u001b[0;31m    message = 'One of Python's strengths is its diverse community.'\u001b[0m\n\u001b[0m                             ^\u001b[0m\n\u001b[0;31mSyntaxError\u001b[0m\u001b[0;31m:\u001b[0m invalid syntax\n"
     ]
    }
   ],
   "source": [
    "%run apostrophe.py"
   ]
  },
  {
   "cell_type": "code",
   "execution_count": 16,
   "metadata": {
    "collapsed": false
   },
   "outputs": [
    {
     "name": "stdout",
     "output_type": "stream",
     "text": [
      "Stephen M Brown\n",
      "STEPHEN M BROWN\n",
      "stephen m brown\n"
     ]
    }
   ],
   "source": [
    "#exercise 2-4\n",
    "full_name = \"stephen m brown\"\n",
    "print(full_name.title())\n",
    "print(full_name.upper())\n",
    "print(full_name.lower())"
   ]
  },
  {
   "cell_type": "code",
   "execution_count": 17,
   "metadata": {
    "collapsed": false
   },
   "outputs": [
    {
     "name": "stdout",
     "output_type": "stream",
     "text": [
      "  \n",
      "  \t stephen m brown   \n",
      "\n",
      "  \n",
      "  \t stephen m brown\n",
      "stephen m brown   \n",
      "\n",
      "stephen m brown\n"
     ]
    }
   ],
   "source": [
    "#exercise 2-7\n",
    "full_name= \"  \\n  \\t stephen m brown   \\n\"\n",
    "print(full_name)\n",
    "print(full_name.rstrip())\n",
    "print(full_name.lstrip())\n",
    "print(full_name.strip())"
   ]
  },
  {
   "cell_type": "code",
   "execution_count": 18,
   "metadata": {
    "collapsed": false
   },
   "outputs": [
    {
     "data": {
      "text/plain": [
       "6"
      ]
     },
     "execution_count": 18,
     "metadata": {},
     "output_type": "execute_result"
    }
   ],
   "source": [
    "2+3\n",
    "3*2"
   ]
  },
  {
   "cell_type": "code",
   "execution_count": 1,
   "metadata": {
    "collapsed": false
   },
   "outputs": [
    {
     "data": {
      "text/plain": [
       "179769313486231590772930519078902473361797697894230657273430081157732675805500963132708477322407536021120113879871393357658789768814416622492847430639474124377767893424865485276302219601246094119453082952085005768838150682342462881473913110540827237163350510684586298239947245938479716304835356329624224137216"
      ]
     },
     "execution_count": 1,
     "metadata": {},
     "output_type": "execute_result"
    }
   ],
   "source": [
    "2**2**10"
   ]
  },
  {
   "cell_type": "markdown",
   "metadata": {
    "collapsed": true
   },
   "source": [
    "0.2 + 0.1"
   ]
  },
  {
   "cell_type": "code",
   "execution_count": 2,
   "metadata": {
    "collapsed": false
   },
   "outputs": [
    {
     "data": {
      "text/plain": [
       "0.30000000000000004"
      ]
     },
     "execution_count": 2,
     "metadata": {},
     "output_type": "execute_result"
    }
   ],
   "source": [
    "0.2 + 0.1"
   ]
  },
  {
   "cell_type": "code",
   "execution_count": 3,
   "metadata": {
    "collapsed": false
   },
   "outputs": [
    {
     "data": {
      "text/plain": [
       "0.03"
      ]
     },
     "execution_count": 3,
     "metadata": {},
     "output_type": "execute_result"
    }
   ],
   "source": [
    "3*.01"
   ]
  },
  {
   "cell_type": "code",
   "execution_count": 8,
   "metadata": {
    "collapsed": false
   },
   "outputs": [
    {
     "name": "stdout",
     "output_type": "stream",
     "text": [
      "Happy 23rd Birthday!\n"
     ]
    }
   ],
   "source": [
    "#birthday.py\n",
    "age = 23\n",
    "message = \"Happy \" + str(age) + \"rd Birthday!\"\n",
    "print(message)"
   ]
  },
  {
   "cell_type": "code",
   "execution_count": 10,
   "metadata": {
    "collapsed": false
   },
   "outputs": [
    {
     "name": "stdout",
     "output_type": "stream",
     "text": [
      "Stephen's favorite number is 42.\n"
     ]
    }
   ],
   "source": [
    "#exercise  2-9\n",
    "favorite_number = 42\n",
    "message = \"Stephen's favorite number is \" + str(favorite_number) +\".\"\n",
    "print(message)"
   ]
  },
  {
   "cell_type": "code",
   "execution_count": 11,
   "metadata": {
    "collapsed": true
   },
   "outputs": [
    {
     "name": "stdout",
     "output_type": "stream",
     "text": [
      "The Zen of Python, by Tim Peters\n",
      "\n",
      "Beautiful is better than ugly.\n",
      "Explicit is better than implicit.\n",
      "Simple is better than complex.\n",
      "Complex is better than complicated.\n",
      "Flat is better than nested.\n",
      "Sparse is better than dense.\n",
      "Readability counts.\n",
      "Special cases aren't special enough to break the rules.\n",
      "Although practicality beats purity.\n",
      "Errors should never pass silently.\n",
      "Unless explicitly silenced.\n",
      "In the face of ambiguity, refuse the temptation to guess.\n",
      "There should be one-- and preferably only one --obvious way to do it.\n",
      "Although that way may not be obvious at first unless you're Dutch.\n",
      "Now is better than never.\n",
      "Although never is often better than *right* now.\n",
      "If the implementation is hard to explain, it's a bad idea.\n",
      "If the implementation is easy to explain, it may be a good idea.\n",
      "Namespaces are one honking great idea -- let's do more of those!\n"
     ]
    }
   ],
   "source": [
    "import this"
   ]
  },
  {
   "cell_type": "code",
   "execution_count": 21,
   "metadata": {
    "collapsed": false
   },
   "outputs": [
    {
     "name": "stdout",
     "output_type": "stream",
     "text": [
      "['trek', 'cannondale', 'redline', 'specialized']\n",
      "Trek\n",
      "Cannondale\n",
      "specialized\n",
      "My first bicycle was a Trek.\n"
     ]
    }
   ],
   "source": [
    "bicycles = ['trek','cannondale','redline','specialized']\n",
    "print(bicycles)\n",
    "print(bicycles[0].title())\n",
    "print(bicycles[1].title())\n",
    "print(bicycles[-1]) \n",
    "message = \"My first bicycle was a \" + bicycles[0].title() + \".\"\n",
    "\n",
    "print(message)\n"
   ]
  },
  {
   "cell_type": "code",
   "execution_count": 26,
   "metadata": {
    "collapsed": false
   },
   "outputs": [
    {
     "name": "stdout",
     "output_type": "stream",
     "text": [
      "Hello, Marshal.  How are you today?\n"
     ]
    }
   ],
   "source": [
    "#exercise 3-1,3-2\n",
    "friend_names = ['Jennifer','Allie','Meghan', 'marshal']\n",
    "print(\"Hello, \" + friend_names[3].title() + \".  How are you today?\")\n"
   ]
  },
  {
   "cell_type": "code",
   "execution_count": 29,
   "metadata": {
    "collapsed": false
   },
   "outputs": [
    {
     "name": "stdout",
     "output_type": "stream",
     "text": [
      "['honda', 'yamaha', 'suzuki']\n",
      "['ducati', 'yamaha', 'suzuki']\n"
     ]
    }
   ],
   "source": [
    "motorcycles = ['honda','yamaha','suzuki']\n",
    "print(motorcycles)\n",
    "\n",
    "motorcycles[0] = 'ducati'\n",
    "print(motorcycles)"
   ]
  },
  {
   "cell_type": "code",
   "execution_count": 30,
   "metadata": {
    "collapsed": false
   },
   "outputs": [
    {
     "name": "stdout",
     "output_type": "stream",
     "text": [
      "['honda', 'yamaha', 'suzuki']\n",
      "['honda', 'yamaha', 'suzuki', 'ducati']\n"
     ]
    }
   ],
   "source": [
    "motorcycles = ['honda','yamaha','suzuki']\n",
    "print(motorcycles)\n",
    "\n",
    "motorcycles.append('ducati')\n",
    "print(motorcycles)"
   ]
  },
  {
   "cell_type": "code",
   "execution_count": 31,
   "metadata": {
    "collapsed": false
   },
   "outputs": [
    {
     "name": "stdout",
     "output_type": "stream",
     "text": [
      "['honda', 'yamaha', 'suzuki']\n"
     ]
    }
   ],
   "source": [
    "motorcycles = []\n",
    "\n",
    "motorcycles.append('honda')\n",
    "motorcycles.append('yamaha')\n",
    "motorcycles.append('suzuki')\n",
    "\n",
    "print(motorcycles)"
   ]
  },
  {
   "cell_type": "code",
   "execution_count": 45,
   "metadata": {
    "collapsed": false
   },
   "outputs": [
    {
     "name": "stdout",
     "output_type": "stream",
     "text": [
      "['ducati', 'honda', 'yamaha', 'suzuki']\n",
      "['honda', 'yamaha', 'suzuki']\n",
      "honda\n",
      "['honda', 'yamaha', 'suzuki']\n",
      "['honda', 'yamaha']\n",
      "suzuki\n"
     ]
    }
   ],
   "source": [
    "motorcycles = ['honda','yamaha','suzuki']\n",
    "\n",
    "\n",
    "#.insert(place,list_value)\n",
    "motorcycles.insert(0,'ducati')\n",
    "\n",
    "print(motorcycles)\n",
    "\n",
    "#del list(place)--> deletes the value in the list\n",
    "del motorcycles[0]\n",
    "print (motorcycles)\n",
    "print(motorcycles[0])\n",
    "\n",
    "#pop() pops the last value of a list\n",
    "print(motorcycles)\n",
    "\n",
    "popped_motorcycle = motorcycles.pop()\n",
    "print(motorcycles)\n",
    "print(popped_motorcycle)\n",
    "\n"
   ]
  },
  {
   "cell_type": "code",
   "execution_count": 55,
   "metadata": {
    "collapsed": false
   },
   "outputs": [
    {
     "name": "stdout",
     "output_type": "stream",
     "text": [
      "['honda', 'yamaha', 'suzuki', 'ducati']\n",
      "['honda', 'yamaha', 'suzuki']\n",
      "The last motorcycle I owned was a Honda.\n",
      "['yamaha', 'suzuki']\n"
     ]
    }
   ],
   "source": [
    "motorcycles = ['honda','yamaha','suzuki']\n",
    "motorcycles.append('ducati')\n",
    "\n",
    "print(motorcycles)\n",
    "\n",
    "too_expensive = 'ducati'\n",
    "\n",
    "motorcycles.remove(too_expensive)\n",
    "print(motorcycles)\n",
    "\n",
    "last_owned = motorcycles.pop(0)\n",
    "print(\"The last motorcycle I owned was a \" + last_owned.title() + \".\")\n",
    "\n",
    "print(motorcycles)"
   ]
  },
  {
   "cell_type": "code",
   "execution_count": 17,
   "metadata": {
    "collapsed": false
   },
   "outputs": [
    {
     "name": "stdout",
     "output_type": "stream",
     "text": [
      "Hello, Allie Brown, I would like to invite you to a special evening watching me drool.\n",
      "Also, as a reminder, Stephen Brown was not allowed to attend.\n"
     ]
    }
   ],
   "source": [
    "#exercise 3-4 \"guest list\"\n",
    "\n",
    "guest_list = ['Stephen Brown', 'Stephen Spielberg','Jennifer Brown', 'Allie Brown','Meghan Brown']\n",
    "count=2\n",
    "#to take some one off and add them back together\n",
    "disinvited_guest = guest_list.pop(0)\n",
    "new_guest = guest_list.append('Jackson Sherman')\n",
    "\n",
    "message = \"Hello, \" + guest_list[count] + \", I would like to invite you to a special evening watching me drool.\"\n",
    "print(message)\n",
    "also_message = \"Also, as a reminder, \" + disinvited_guest + \" was not allowed to attend.\"\n",
    "\n",
    "print(also_message)"
   ]
  },
  {
   "cell_type": "code",
   "execution_count": 18,
   "metadata": {
    "collapsed": false
   },
   "outputs": [
    {
     "data": {
      "text/plain": [
       "['Stephen Spielberg',\n",
       " 'Jennifer Brown',\n",
       " 'Allie Brown',\n",
       " 'Meghan Brown',\n",
       " 'Jackson Sherman']"
      ]
     },
     "execution_count": 18,
     "metadata": {},
     "output_type": "execute_result"
    }
   ],
   "source": [
    "guest_list\n"
   ]
  },
  {
   "cell_type": "code",
   "execution_count": 35,
   "metadata": {
    "collapsed": false
   },
   "outputs": [
    {
     "name": "stdout",
     "output_type": "stream",
     "text": [
      "Here is the orginal list\n",
      "['bmw', 'audi', 'toyota', 'subaru']\n",
      "\n",
      "Here is the sorted list\n",
      "['toyota', 'subaru', 'bmw', 'audi']\n",
      "\n",
      "Here is the original list again.\n",
      "Here is orig_cars \n",
      "['toyota', 'subaru', 'bmw', 'audi']\n",
      "['toyota', 'subaru', 'bmw', 'audi']\n",
      "['toyota', 'subaru', 'bmw', 'audi']\n",
      "['audi', 'bmw', 'subaru', 'toyota']\n"
     ]
    }
   ],
   "source": [
    "cars = ['bmw','audi','toyota','subaru']\n",
    "orig_cars = cars\n",
    "print(\"Here is the orginal list\")\n",
    "print(cars)\n",
    "\n",
    "cars.sort(reverse=True)\n",
    "print(\"\\nHere is the sorted list\")\n",
    "print(cars)\n",
    "\n",
    "\n",
    "print(\"\\nHere is the original list again.\")\n",
    "print(\"Here is orig_cars \")\n",
    "print(orig_cars)\n",
    "cars = orig_cars\n",
    "print(orig_cars)\n",
    "print(cars)\n",
    "\n",
    "cars.reverse()\n",
    "print(cars)"
   ]
  },
  {
   "cell_type": "code",
   "execution_count": 45,
   "metadata": {
    "collapsed": false
   },
   "outputs": [
    {
     "name": "stdout",
     "output_type": "stream",
     "text": [
      "['a', 'b', 'c', 'd']\n",
      "['a', 'b', 'c', 'd']\n",
      "['d', 'c', 'b', 'a']\n",
      "['d', 'c', 'b', 'a']\n",
      "['a', 'b', 'c', 'd']\n",
      "['a', 'b', 'c', 'd']\n"
     ]
    }
   ],
   "source": [
    "#Not sure why this behaves this way.  But, hopefully, I can come back to it.\n",
    "\n",
    "list = ['a','b','c','d']\n",
    "orig_list = list\n",
    "print(list)\n",
    "print(orig_list)\n",
    "\n",
    "list.reverse()\n",
    "print(list)\n",
    "print(orig_list)\n",
    "\n",
    "orig_list.reverse()\n",
    "print(orig_list)\n",
    "print(list)"
   ]
  },
  {
   "cell_type": "code",
   "execution_count": 46,
   "metadata": {
    "collapsed": false
   },
   "outputs": [
    {
     "name": "stdout",
     "output_type": "stream",
     "text": [
      "['toyota', 'subaru', 'bmw', 'audi']\n"
     ]
    }
   ],
   "source": [
    "print(cars)"
   ]
  },
  {
   "cell_type": "code",
   "execution_count": 47,
   "metadata": {
    "collapsed": false
   },
   "outputs": [
    {
     "name": "stdout",
     "output_type": "stream",
     "text": [
      "['toyota', 'subaru', 'bmw', 'audi']\n"
     ]
    }
   ],
   "source": [
    "print(orig_cars)"
   ]
  },
  {
   "cell_type": "code",
   "execution_count": 48,
   "metadata": {
    "collapsed": false
   },
   "outputs": [
    {
     "data": {
      "text/plain": [
       "4"
      ]
     },
     "execution_count": 48,
     "metadata": {},
     "output_type": "execute_result"
    }
   ],
   "source": [
    "len(cars)"
   ]
  },
  {
   "cell_type": "code",
   "execution_count": 56,
   "metadata": {
    "collapsed": false
   },
   "outputs": [
    {
     "name": "stdout",
     "output_type": "stream",
     "text": [
      "Alice, that was a great trick!\n",
      "I can't wait to see your next trick, Alice. \n",
      "\n",
      "David, that was a great trick!\n",
      "I can't wait to see your next trick, David. \n",
      "\n",
      "Carolina, that was a great trick!\n",
      "I can't wait to see your next trick, Carolina. \n",
      "\n",
      "Thank you for a wonderful show!\n"
     ]
    }
   ],
   "source": [
    "magicians = ['alice','david','carolina']\n",
    "for magician in magicians:\n",
    "    print(magician.title() + \", that was a great trick!\")\n",
    "    print(\"I can't wait to see your next trick, \" + magician.title() + \". \\n\")\n",
    "print(\"Thank you for a wonderful show!\")"
   ]
  },
  {
   "cell_type": "code",
   "execution_count": 7,
   "metadata": {
    "collapsed": false
   },
   "outputs": [
    {
     "name": "stdout",
     "output_type": "stream",
     "text": [
      "1\n",
      "2\n",
      "3\n",
      "4\n"
     ]
    }
   ],
   "source": [
    "for value in range(1,5):\n",
    "    print(value)"
   ]
  },
  {
   "cell_type": "code",
   "execution_count": 8,
   "metadata": {
    "collapsed": false
   },
   "outputs": [
    {
     "name": "stdout",
     "output_type": "stream",
     "text": [
      "[1, 2, 3, 4, 5, 6, 7, 8, 9]\n"
     ]
    }
   ],
   "source": [
    "numbers = range(1,10)\n",
    "#this is somesort of weird python thing again that doesn't like the book's way of doing range\n",
    "#so after some stackoverflow\n",
    "numbers=[*numbers]\n",
    "print(numbers)\n"
   ]
  },
  {
   "cell_type": "code",
   "execution_count": 3,
   "metadata": {
    "collapsed": false
   },
   "outputs": [
    {
     "name": "stdout",
     "output_type": "stream",
     "text": [
      "[0, 1, 2, 3, 4, 5, 6, 7, 8, 9]\n"
     ]
    }
   ],
   "source": [
    "#stackoverflow's way of doing the list(range())\n",
    "r = range(10)\n",
    "l = [*r]\n",
    "print(l)\n"
   ]
  },
  {
   "cell_type": "code",
   "execution_count": 8,
   "metadata": {
    "collapsed": false
   },
   "outputs": [
    {
     "name": "stdout",
     "output_type": "stream",
     "text": [
      "[0, 1, 2, 3, 4, 5, 6, 7, 8, 9]\n",
      "[2, 4, 6, 8, 10]\n"
     ]
    }
   ],
   "source": [
    "numbers = [*range(10)]\n",
    "print(numbers)\n",
    "even_numbers = [*range(2,11,2)]\n",
    "#curly brackets also work\n",
    "print(even_numbers)"
   ]
  },
  {
   "cell_type": "code",
   "execution_count": 11,
   "metadata": {
    "collapsed": false
   },
   "outputs": [
    {
     "name": "stdout",
     "output_type": "stream",
     "text": [
      "[1, 4, 9, 16, 25, 36, 49, 64, 81, 100]\n"
     ]
    }
   ],
   "source": [
    "#squares.py\n",
    "squares = []\n",
    "for values in range(1,11):\n",
    "    square = values**2\n",
    "    squares.append(square)\n",
    "    \n",
    "print(squares)"
   ]
  },
  {
   "cell_type": "code",
   "execution_count": 12,
   "metadata": {
    "collapsed": false
   },
   "outputs": [
    {
     "name": "stdout",
     "output_type": "stream",
     "text": [
      "[1, 4, 9, 16, 25, 36, 49, 64, 81, 100]\n"
     ]
    }
   ],
   "source": [
    "#squares.py for a more compact method\n",
    "squares = []\n",
    "for values in range(1,11):\n",
    "    squares.append(values**2)\n",
    "    \n",
    "print(squares)"
   ]
  },
  {
   "cell_type": "code",
   "execution_count": 22,
   "metadata": {
    "collapsed": false
   },
   "outputs": [
    {
     "name": "stdout",
     "output_type": "stream",
     "text": [
      "[1, 2, 3, 4, 5, 6, 7, 8, 9, 10, 11, 12, 13, 14, 15, 16, 17, 18, 19, 20, 21, 22, 23, 24, 25, 26, 27, 28, 29, 30, 31, 32, 33, 34, 35, 36, 37, 38, 39, 40, 41, 42, 43, 44, 45, 46, 47, 48, 49, 50, 51, 52, 53, 54, 55, 56, 57, 58, 59, 60, 61, 62, 63, 64, 65, 66, 67, 68, 69, 70, 71, 72, 73, 74, 75, 76, 77, 78, 79, 80, 81, 82, 83, 84, 85, 86, 87, 88, 89, 90, 91, 92, 93, 94, 95, 96, 97, 98, 99, 0]\n",
      "0\n",
      "99\n",
      "4950\n"
     ]
    }
   ],
   "source": [
    "digits = [*range(1,100)]\n",
    "digits.append(0)\n",
    "print(digits)\n",
    "print(min(digits))\n",
    "print(max(digits))\n",
    "print(sum(digits))"
   ]
  },
  {
   "cell_type": "code",
   "execution_count": 24,
   "metadata": {
    "collapsed": false
   },
   "outputs": [
    {
     "name": "stdout",
     "output_type": "stream",
     "text": [
      "[1, 4, 9, 16, 25, 36, 49, 64, 81, 100]\n"
     ]
    }
   ],
   "source": [
    "#list comprehension\n",
    "squares = [value**2 for value in range(1,11)]\n",
    "print(squares)"
   ]
  },
  {
   "cell_type": "code",
   "execution_count": 25,
   "metadata": {
    "collapsed": true
   },
   "outputs": [
    {
     "name": "stdout",
     "output_type": "stream",
     "text": [
      "0\n",
      "1\n",
      "2\n",
      "3\n",
      "4\n",
      "5\n",
      "6\n",
      "7\n",
      "8\n",
      "9\n",
      "10\n",
      "11\n",
      "12\n",
      "13\n",
      "14\n",
      "15\n",
      "16\n",
      "17\n",
      "18\n",
      "19\n",
      "20\n"
     ]
    }
   ],
   "source": [
    "#exercise 4-3 loop to 20\n",
    "loop_twenty = [*range(0,21)]\n",
    "for value in loop_twenty:\n",
    "    print(value)\n",
    "    "
   ]
  },
  {
   "cell_type": "code",
   "execution_count": 31,
   "metadata": {
    "collapsed": false
   },
   "outputs": [
    {
     "name": "stdout",
     "output_type": "stream",
     "text": [
      "1\n",
      "1000000\n",
      "500000500000\n"
     ]
    }
   ],
   "source": [
    "#exercise 4-4,5 to a million\n",
    "numbers = [*range(1,1000001)]\n",
    "print(min(numbers))\n",
    "print(max(numbers))\n",
    "print(sum(numbers))\n",
    "\n"
   ]
  },
  {
   "cell_type": "code",
   "execution_count": 41,
   "metadata": {
    "collapsed": false
   },
   "outputs": [
    {
     "name": "stdout",
     "output_type": "stream",
     "text": [
      "{1, 3, 5, 7, 9, 11, 13, 15, 17, 19}\n",
      "[3, 6, 9, 12, 15, 18, 21, 24, 27, 30]\n",
      "[1, 2, 3, 4, 5, 6, 7, 8, 9, 10]\n",
      "1\n",
      "8\n",
      "27\n",
      "64\n",
      "125\n",
      "216\n",
      "343\n",
      "512\n",
      "729\n",
      "1000\n",
      "[1, 8, 27, 64, 125, 216, 343, 512, 729, 1000]\n"
     ]
    }
   ],
   "source": [
    "#exercise 4-6,7,8\n",
    "odd_numbers = {*range(1,20,2)}\n",
    "print(odd_numbers)\n",
    "threes = [*range(3,31,3)]\n",
    "print((threes))\n",
    "cubes = [*range(1,11)]\n",
    "print(cubes)\n",
    "for value in cubes:\n",
    "    print(value**3)\n",
    "list_cubes = [value**3 for value in [*range(1,11)]]\n",
    "print(list_cubes)"
   ]
  },
  {
   "cell_type": "code",
   "execution_count": 48,
   "metadata": {
    "collapsed": false
   },
   "outputs": [
    {
     "name": "stdout",
     "output_type": "stream",
     "text": [
      "['michael', 'florence', 'eli']\n",
      "['michael', 'florence', 'eli']\n",
      "Here are the first three players on my team\n",
      "Charles\n",
      "Martina\n",
      "Michael\n"
     ]
    }
   ],
   "source": [
    "players = ['charles','martina','michael','florence','eli']\n",
    "print(players[2:])\n",
    "print(players[-3:])\n",
    "\n",
    "print(\"Here are the first three players on my team\")\n",
    "for player in players[:3]:\n",
    "    print(player.title())"
   ]
  },
  {
   "cell_type": "code",
   "execution_count": 54,
   "metadata": {
    "collapsed": false
   },
   "outputs": [
    {
     "name": "stdout",
     "output_type": "stream",
     "text": [
      "my favorite foods are:\n",
      "['pizza', 'falafel', 'carrot cake', 'cannoli']\n",
      "\n",
      "My friend's favorite foods are:\n",
      "['pizza', 'falafel', 'carrot cake', 'ice cream']\n",
      "pizza\n",
      "falafel\n",
      "carrot cake\n",
      "falafel\n",
      "carrot cake\n"
     ]
    }
   ],
   "source": [
    "my_foods = ['pizza','falafel','carrot cake']\n",
    "friend_foods = my_foods[:]\n",
    "\n",
    "my_foods.append('cannoli')\n",
    "friend_foods.append('ice cream')\n",
    "\n",
    "print(\"my favorite foods are:\")\n",
    "print(my_foods)\n",
    "\n",
    "print(\"\\nMy friend's favorite foods are:\")\n",
    "print(friend_foods)\n",
    "\n",
    "for food in my_foods[:3]:\n",
    "    print(food)\n",
    "    \n",
    "for food in my_foods[1:3]:\n",
    "    print(food)"
   ]
  },
  {
   "cell_type": "code",
   "execution_count": 61,
   "metadata": {
    "collapsed": false
   },
   "outputs": [
    {
     "name": "stdout",
     "output_type": "stream",
     "text": [
      "Original Dimensions\n",
      "200\n",
      "50\n",
      "200\n",
      "50\n",
      "\n",
      "Modified dimensions:\n",
      "400\n",
      "100\n",
      "(400, 100)\n"
     ]
    }
   ],
   "source": [
    "#tuples\n",
    "dimensions = (200,50)\n",
    "print(\"Original Dimensions\")\n",
    "for dimension in dimensions:\n",
    "    print(dimension)\n",
    "    \n",
    "print(dimensions[0])\n",
    "print(dimensions[1])\n",
    "\n",
    "dimensions = (400,100)\n",
    "print(\"\\nModified dimensions:\")\n",
    "for dimension in dimensions:\n",
    "    print(dimension)\n",
    "\n",
    "\n",
    "#dimensions[0]=250\n",
    "print(dimensions)"
   ]
  },
  {
   "cell_type": "code",
   "execution_count": 62,
   "metadata": {
    "collapsed": false
   },
   "outputs": [
    {
     "data": {
      "text/plain": [
       "111111111111111111111111111111111111111111111111111111111111111111111111111111111111111"
      ]
     },
     "execution_count": 62,
     "metadata": {},
     "output_type": "execute_result"
    }
   ],
   "source": [
    "123456\n",
    "    1"
   ]
  },
  {
   "cell_type": "code",
   "execution_count": 64,
   "metadata": {
    "collapsed": false
   },
   "outputs": [
    {
     "name": "stdout",
     "output_type": "stream",
     "text": [
      "Audi\n",
      "BMW\n",
      "Subaru\n",
      "Toyota\n"
     ]
    }
   ],
   "source": [
    "cars = ['audi','bmw','subaru','toyota']\n",
    "for car in cars:\n",
    "    if car == 'bmw':\n",
    "        print(car.upper())\n",
    "    else:\n",
    "        print(car.title())"
   ]
  },
  {
   "cell_type": "code",
   "execution_count": 66,
   "metadata": {
    "collapsed": false
   },
   "outputs": [
    {
     "data": {
      "text/plain": [
       "True"
      ]
     },
     "execution_count": 66,
     "metadata": {},
     "output_type": "execute_result"
    }
   ],
   "source": [
    "car = 'Audi'\n",
    "car.lower()=='audi'\n"
   ]
  },
  {
   "cell_type": "code",
   "execution_count": 79,
   "metadata": {
    "collapsed": false
   },
   "outputs": [
    {
     "data": {
      "text/plain": [
       "False"
      ]
     },
     "execution_count": 79,
     "metadata": {},
     "output_type": "execute_result"
    }
   ],
   "source": [
    "requested_toppings = ['mushrooms','onions','pineapple']\n",
    "\n",
    "'mushrooms' in requested_topping\n",
    "\n",
    "#if requested_topping != 'anchovies':\n",
    " #   print(\"Hold the anchovies!\")\n",
    "'peoporoni' in requested_toppings"
   ]
  },
  {
   "cell_type": "code",
   "execution_count": 75,
   "metadata": {
    "collapsed": false
   },
   "outputs": [
    {
     "data": {
      "text/plain": [
       "True"
      ]
     },
     "execution_count": 75,
     "metadata": {},
     "output_type": "execute_result"
    }
   ],
   "source": [
    "age_0 = 22\n",
    "age_1 = 18\n",
    "\n",
    "age_0 >= 21 or age_1 >= 21"
   ]
  },
  {
   "cell_type": "code",
   "execution_count": 80,
   "metadata": {
    "collapsed": false
   },
   "outputs": [
    {
     "name": "stdout",
     "output_type": "stream",
     "text": [
      "Marie, you can post a response if you wish.\n"
     ]
    }
   ],
   "source": [
    "banned_users = ['andrew','carolina','david']\n",
    "user = 'marie'\n",
    "\n",
    "if user not in banned_users:\n",
    "    print(user.title() + \", you can post a response if you wish.\")"
   ]
  },
  {
   "cell_type": "code",
   "execution_count": 81,
   "metadata": {
    "collapsed": false
   },
   "outputs": [
    {
     "name": "stdout",
     "output_type": "stream",
     "text": [
      "Sorry, you are too young to vote.\n",
      "Please register to vote as soon as you turn 18!\n"
     ]
    }
   ],
   "source": [
    "age = 17\n",
    "if age >= 18:\n",
    "    print(\"You are old enough to vote!\")\n",
    "    print(\"Have you registered to vote!\")\n",
    "else:\n",
    "    print(\"Sorry, you are too young to vote.\")\n",
    "    print(\"Please register to vote as soon as you turn 18!\")"
   ]
  },
  {
   "cell_type": "code",
   "execution_count": 84,
   "metadata": {
    "collapsed": false
   },
   "outputs": [
    {
     "name": "stdout",
     "output_type": "stream",
     "text": [
      "Your admission cost is $10.\n"
     ]
    }
   ],
   "source": [
    "age = 18\n",
    "\n",
    "if age < 4:\n",
    "    print(\"Your admission cost is $0.\")\n",
    "elif age < 18:\n",
    "    print(\"Your admission cost is $5.\")\n",
    "else:\n",
    "    print(\"Your admission cost is $10.\")"
   ]
  },
  {
   "cell_type": "code",
   "execution_count": 10,
   "metadata": {
    "collapsed": false
   },
   "outputs": [
    {
     "name": "stdout",
     "output_type": "stream",
     "text": [
      "Unknown Color Alien\n"
     ]
    }
   ],
   "source": [
    "#5-3 Alien colors\n",
    "alien_color = 'yellow-green'\n",
    "\n",
    "if alien_color == 'green':\n",
    "    print(\"Congrats!  You get 5 points!\")\n",
    "elif alien_color == 'yellow':\n",
    "    print(\"Congrats! You get 10 points!\")\n",
    "elif alien_color == 'red':\n",
    "    print(\"Congrats!  You get 15 points!\")\n",
    "else:\n",
    "    print(\"Unknown Color Alien\")"
   ]
  },
  {
   "cell_type": "code",
   "execution_count": 17,
   "metadata": {
    "collapsed": false
   },
   "outputs": [
    {
     "name": "stdout",
     "output_type": "stream",
     "text": [
      "Are you sure you want a plain pizza?\n",
      "\n",
      "Finished making your pizza!\n"
     ]
    }
   ],
   "source": [
    "#toppings.py\n",
    "#requested_toppings = ['mushrooms','green peppers','extra cheese']\n",
    "#python if returns a null if the name of an empty list is in if statement\n",
    "requested_toppings = []\n",
    "if requested_toppings:\n",
    "    for requested_topping in requested_toppings:\n",
    "        if requested_topping == 'green peppers':\n",
    "            print(\"Sorry, we are out of green peppers right now.\")\n",
    "        else:\n",
    "            print(\"Adding \" + requested_topping+ \".\")\n",
    "else:\n",
    "    print(\"Are you sure you want a plain pizza?\")\n",
    "print(\"\\nFinished making your pizza!\")"
   ]
  },
  {
   "cell_type": "code",
   "execution_count": 18,
   "metadata": {
    "collapsed": false
   },
   "outputs": [
    {
     "name": "stdout",
     "output_type": "stream",
     "text": [
      "Adding mushrooms.\n",
      "Sorry, we don't have french fries.\n",
      "Adding extra cheese.\n",
      "\n",
      "Finished making your pizza!\n"
     ]
    }
   ],
   "source": [
    "available_toppings = ['mushrooms','olives','green peppers', 'pepperoni','pineapple','extra cheese']\n",
    "\n",
    "requested_toppings = ['mushrooms', 'french fries', 'extra cheese']\n",
    "\n",
    "for requested_topping in requested_toppings:\n",
    "    if requested_topping in available_toppings:\n",
    "        print(\"Adding \" + requested_topping + \".\")\n",
    "    else:\n",
    "        print(\"Sorry, we don't have \" + requested_topping + \".\")\n",
    "print(\"\\nFinished making your pizza!\")"
   ]
  },
  {
   "cell_type": "code",
   "execution_count": 2,
   "metadata": {
    "collapsed": false
   },
   "outputs": [
    {
     "name": "stdout",
     "output_type": "stream",
     "text": [
      "1st\n",
      "2nd\n",
      "3rd\n",
      "4th\n",
      "5th\n",
      "6th\n",
      "7th\n",
      "8th\n",
      "9th\n"
     ]
    }
   ],
   "source": [
    "#5-11 Ordinal Numbers\n",
    "number_list = ['1','2','3','4','5','6','7','8','9']\n",
    "\n",
    "for number in number_list:\n",
    "    if number == '1':\n",
    "        print(number + \"st\")\n",
    "    elif number == '2':\n",
    "        print(number + \"nd\")\n",
    "    elif number == '3':\n",
    "        print(number + \"rd\")\n",
    "    else:\n",
    "        print(number + \"th\")"
   ]
  },
  {
   "cell_type": "code",
   "execution_count": 10,
   "metadata": {
    "collapsed": false
   },
   "outputs": [
    {
     "name": "stdout",
     "output_type": "stream",
     "text": [
      "green\n",
      "5\n",
      "{'color': 'green', 'points': 5}\n",
      "You just earned 5 points.\n",
      "{'color': 'green', 'points': 5, 'x_position': 0, 'y_position': 0}\n"
     ]
    }
   ],
   "source": [
    "#alien.py\n",
    "alien_0 = {'color':'green','points':5}\n",
    "print(alien_0['color'])\n",
    "print(alien_0['points'])\n",
    "print(alien_0)\n",
    "\n",
    "new_points = alien_0['points']\n",
    "print(\"You just earned \" + str(new_points) +  \" points.\")\n",
    "\n",
    "alien_0['x_position'] = 0\n",
    "alien_0['y_position'] = 0\n",
    "print(alien_0)"
   ]
  },
  {
   "cell_type": "code",
   "execution_count": 22,
   "metadata": {
    "collapsed": false
   },
   "outputs": [
    {
     "name": "stdout",
     "output_type": "stream",
     "text": [
      "{'color': 'green', 'points': 5}\n",
      "The alien is green.\n",
      "The alien is yellow.\n",
      "Original x-position: 0\n",
      "New x-position 2\n",
      "{'y_position': 25, 'speed': 'medium'}\n"
     ]
    }
   ],
   "source": [
    "alien_0 = {}\n",
    "\n",
    "alien_0['color'] = 'green'\n",
    "alien_0['points'] = 5\n",
    "\n",
    "print(alien_0)\n",
    " \n",
    "print(\"The alien is \" + alien_0['color'] + \".\")\n",
    "\n",
    "alien_0['color'] = 'yellow'\n",
    "print(\"The alien is \" + alien_0['color'] + \".\")\n",
    "\n",
    "alien_0 = {'x_position':0,'y_position':25, 'speed':'medium'}\n",
    "\n",
    "print(\"Original x-position: \" + str(alien_0['x_position']))\n",
    "\n",
    "#move the alien to the right\n",
    "#Determine how far to move the alien based on its\n",
    "#current speed\n",
    "\n",
    "if alien_0['speed'] == 'slow':\n",
    "    x_increment = 1\n",
    "elif alien_0['speed']  == 'medium':\n",
    "    x_increment = 2\n",
    "else:\n",
    "    #this must be a fast alien\n",
    "    x_increment = 3\n",
    "    \n",
    "#The new position is the old position plus the increment.\n",
    "\n",
    "alien_0['x_position'] = alien_0['x_position'] + x_increment\n",
    "\n",
    "print(\"New x-position \" + str(alien_0['x_position']))\n",
    "\n",
    "del alien_0['x_position']\n",
    "\n",
    "print(alien_0)\n",
    "\n",
    "\n"
   ]
  },
  {
   "cell_type": "code",
   "execution_count": 38,
   "metadata": {
    "collapsed": false
   },
   "outputs": [
    {
     "name": "stdout",
     "output_type": "stream",
     "text": [
      "{'jen': 'python', 'sarah': 'c', 'edward': 'ruby', 'phil': 'python'}\n"
     ]
    }
   ],
   "source": [
    "favorite_languages = {\n",
    "    'jen':'python',\n",
    "    'sarah':'c',\n",
    "    'edward':'ruby',\n",
    "    'phil':'python',\n",
    "    }\n",
    "print(favorite_language)"
   ]
  },
  {
   "cell_type": "code",
   "execution_count": 28,
   "metadata": {
    "collapsed": false
   },
   "outputs": [
    {
     "data": {
      "text/plain": [
       "'c'"
      ]
     },
     "execution_count": 28,
     "metadata": {},
     "output_type": "execute_result"
    }
   ],
   "source": [
    "favorite_language['sarah']"
   ]
  },
  {
   "cell_type": "code",
   "execution_count": 36,
   "metadata": {
    "collapsed": false
   },
   "outputs": [
    {
     "name": "stdout",
     "output_type": "stream",
     "text": [
      "Key: username\n",
      "Value: efermi\n",
      "\n",
      "\n",
      "Key: first\n",
      "Value: enrico\n",
      "\n",
      "\n",
      "Key: last\n",
      "Value: fermi\n",
      "\n",
      "\n",
      "dict_items([('username', 'efermi'), ('first', 'enrico'), ('last', 'fermi')])\n"
     ]
    }
   ],
   "source": [
    "#the book is making a note again that python will not necessarily return\n",
    "#the key:values in a set order.  My output seems to do this.  Python 3.6?\n",
    "\n",
    "\n",
    "\n",
    "user_0 = {\n",
    "    'username':'efermi',\n",
    "    'first':'enrico',\n",
    "    'last':'fermi',\n",
    "}\n",
    "\n",
    "for key, value in user_0.items():\n",
    "    print(\"Key: \" + key)\n",
    "    print(\"Value: \" + value)\n",
    "    print(\"\\n\")\n",
    "    \n",
    "print(user_0.items())\n"
   ]
  },
  {
   "cell_type": "code",
   "execution_count": 42,
   "metadata": {
    "collapsed": false
   },
   "outputs": [
    {
     "name": "stdout",
     "output_type": "stream",
     "text": [
      "{'jen': 'python', 'sarah': 'c', 'edward': 'ruby', 'phil': 'python'}\n",
      "Jen's favorite lanuague is Python.\n",
      "Sarah's favorite lanuague is C.\n",
      "Edward's favorite lanuague is Ruby.\n",
      "Phil's favorite lanuague is Python.\n"
     ]
    }
   ],
   "source": [
    "#favorite_languages.py  favorite_languages from previous cell\n",
    "print(favorite_languages)\n",
    "\n",
    "for name, language in favorite_languages.items():\n",
    "    print(name.title() + \"'s favorite lanuague is \" +\n",
    "         language.title() + \".\")\n"
   ]
  },
  {
   "cell_type": "code",
   "execution_count": 53,
   "metadata": {
    "collapsed": false
   },
   "outputs": [
    {
     "name": "stdout",
     "output_type": "stream",
     "text": [
      "Jen\n",
      "Sarah\n",
      "Edward\n",
      "Phil\n",
      "Jen\n",
      "Sarah\n",
      " Hi Sarah,I see your favorite language is C.\n",
      "Edward\n",
      "Phil\n",
      " Hi Phil,I see your favorite language is Python.\n",
      "Erin, please take our poll!\n",
      "Edward, thank you for taking the poll.\n",
      "Jen, thank you for taking the poll.\n",
      "Phil, thank you for taking the poll.\n",
      "Sarah, thank you for taking the poll.\n",
      "The following languages have been mentioned:\n",
      "Ruby\n",
      "C\n",
      "Python\n"
     ]
    }
   ],
   "source": [
    "for name in favorite_languages.keys():\n",
    "    print(name.title())\n",
    "\n",
    "friends = ['phil','sarah']\n",
    "for name in favorite_languages.keys():\n",
    "    print(name.title())\n",
    "    if name in friends:\n",
    "        print(\" Hi \" + name.title() +\n",
    "             \",I see your favorite language is \" +\n",
    "            favorite_languages[name].title() + \".\")\n",
    "\n",
    "if 'erin' not in favorite_languages.keys():\n",
    "    print(\"Erin, please take our poll!\")\n",
    "    \n",
    "    \n",
    "for name in sorted(favorite_language.keys()):\n",
    "    print(name.title() + \", thank you for taking the poll.\")\n",
    "    \n",
    "print(\"The following languages have been mentioned:\")\n",
    "for language in set(favorite_languages.values()):\n",
    "    print(language.title())\n"
   ]
  },
  {
   "cell_type": "code",
   "execution_count": 58,
   "metadata": {
    "collapsed": false
   },
   "outputs": [
    {
     "name": "stdout",
     "output_type": "stream",
     "text": [
      "The river Nile is a river.\n",
      "The river Amazon is a river.\n",
      "The river Missouri is a river.\n",
      "Egypt\n",
      "Brazil\n",
      "United States Of America\n"
     ]
    }
   ],
   "source": [
    "#exercise 6-5 Rivers.py\n",
    "rivers = {\n",
    "    'nile':'egypt',\n",
    "    'amazon':'brazil',\n",
    "    'missouri':'united states of america'\n",
    "    }\n",
    "for river in rivers.keys():\n",
    "    print(\"The river \" + river.title() + \" is a river.\")\n",
    "\n",
    "for country in rivers.values():\n",
    "    print(country.title())"
   ]
  },
  {
   "cell_type": "code",
   "execution_count": 65,
   "metadata": {
    "collapsed": false
   },
   "outputs": [
    {
     "name": "stdout",
     "output_type": "stream",
     "text": [
      "{'color': 'green', 'points': 5}\n",
      "{'color': 'yellow', 'points': 10}\n",
      "{'color': 'red', 'points': 15}\n"
     ]
    }
   ],
   "source": [
    "#nesting\n",
    "alien_0 = {'color':'green','points':5}\n",
    "alien_1 = {'color':'yellow','points':10}\n",
    "alien_2 = {'color':'red','points':15}\n",
    "\n",
    "aliens = [alien_0, alien_1, alien_2]\n",
    "\n",
    "for alien in aliens:\n",
    "    print(alien)"
   ]
  },
  {
   "cell_type": "code",
   "execution_count": 69,
   "metadata": {
    "collapsed": false
   },
   "outputs": [
    {
     "name": "stdout",
     "output_type": "stream",
     "text": [
      "{'color': 'yellow', 'points': 10, 'speed': 'medium'}\n",
      "...\n",
      "{'color': 'yellow', 'points': 10, 'speed': 'medium'}\n",
      "...\n",
      "{'color': 'yellow', 'points': 10, 'speed': 'medium'}\n",
      "...\n",
      "{'color': 'green', 'points': 5, 'speed': 'slow'}\n",
      "...\n",
      "{'color': 'green', 'points': 5, 'speed': 'slow'}\n",
      "...\n",
      "Total number of aliens: 30\n"
     ]
    }
   ],
   "source": [
    "#make an empty list for storing aliens\n",
    "aliens = []\n",
    "\n",
    "#make 30 green aliens.\n",
    "for alien_number in range(30):\n",
    "    new_alien = {'color':'green','points':5,'speed':'slow'}\n",
    "    aliens.append(new_alien)\n",
    "\n",
    "for alien in aliens[0:3]:\n",
    "    if alien['color'] == 'green':\n",
    "        alien['color'] = 'yellow'\n",
    "        alien['speed'] = 'medium'\n",
    "        alien['points'] = 10\n",
    "        \n",
    "#show the first 5 aliens\n",
    "for alien in aliens[:5]:\n",
    "    print(alien)\n",
    "    print(\"...\")\n",
    "#Show how many aliens have been created.\n",
    "print(\"Total number of aliens: \" +\n",
    "     str(len(aliens)))\n",
    "\n"
   ]
  },
  {
   "cell_type": "code",
   "execution_count": 71,
   "metadata": {
    "collapsed": false
   },
   "outputs": [
    {
     "name": "stdout",
     "output_type": "stream",
     "text": [
      "You ordered a thick-crust pizza with the following toppings.\n",
      "\tmushrooms\n",
      "\textra chesse\n"
     ]
    }
   ],
   "source": [
    "#pizza.py\n",
    "#Store information about a pizza being ordered.\n",
    "\n",
    "pizza = {\n",
    "    'crust':'thick',\n",
    "    'toppings':['mushrooms','extra chesse'],\n",
    "    }\n",
    "\n",
    "#Summarize the order\n",
    "print(\"You ordered a \" + pizza['crust'] + \"-crust pizza\" + \n",
    "     \" with the following toppings.\")\n",
    "\n",
    "for topping in pizza['toppings']:\n",
    "    print(\"\\t\" + topping)"
   ]
  },
  {
   "cell_type": "code",
   "execution_count": 75,
   "metadata": {
    "collapsed": false
   },
   "outputs": [
    {
     "name": "stdout",
     "output_type": "stream",
     "text": [
      "\n",
      "Username: aeinstein\n",
      "\tFull Name: Albert Einstein\n",
      "\tLocation: Princeton\n",
      "\n",
      "Username: mcurie\n",
      "\tFull Name: Marie Curie\n",
      "\tLocation: Paris\n"
     ]
    }
   ],
   "source": [
    "#many_users\n",
    "\n",
    "users ={\n",
    "    'aeinstein':{\n",
    "        'first':'albert',\n",
    "        'last':'einstein',\n",
    "        'location':'princeton',\n",
    "    },\n",
    "    'mcurie':{\n",
    "        'first':'marie',\n",
    "        'last':'curie',\n",
    "        'location':'paris'  \n",
    "    }\n",
    "}\n",
    "for username, user_info in users.items():\n",
    "    print(\"\\nUsername: \" + username)\n",
    "    full_name = user_info['first'] + \" \" + user_info['last']\n",
    "    location = user_info['location']\n",
    "    \n",
    "    print(\"\\tFull Name: \" + full_name.title())\n",
    "    print(\"\\tLocation: \" + location.title())"
   ]
  },
  {
   "cell_type": "code",
   "execution_count": 2,
   "metadata": {
    "collapsed": false
   },
   "outputs": [
    {
     "name": "stdout",
     "output_type": "stream",
     "text": [
      "Tell me something, and I will repeat it back to you: What's up?\n",
      "What's up?\n"
     ]
    }
   ],
   "source": [
    "#parrot.py\n",
    "message = input(\"Tell me something, and I will repeat it back to you: \")\n",
    "print(message)"
   ]
  },
  {
   "cell_type": "code",
   "execution_count": 8,
   "metadata": {
    "collapsed": false
   },
   "outputs": [
    {
     "name": "stdout",
     "output_type": "stream",
     "text": [
      "If you tell us who you are, we can personalie the messages you see.\n",
      "What is your first name? Stephen\n",
      "Hello, Stephen!\n",
      "How old are you? 21\n",
      "21\n",
      "How old are you? 45\n"
     ]
    },
    {
     "data": {
      "text/plain": [
       "45"
      ]
     },
     "execution_count": 8,
     "metadata": {},
     "output_type": "execute_result"
    }
   ],
   "source": [
    "#greeter.py\n",
    "prompt = \"If you tell us who you are, we can personalie the messages you see.\"\n",
    "prompt += \"\\nWhat is your first name? \"\n",
    "name = input(prompt)\n",
    "print(\"Hello, \" + name + \"!\")\n",
    "\n",
    "age = input(\"How old are you? \")\n",
    "print(age)\n",
    "\n",
    "age = input(\"How old are you? \")\n",
    "age = int(age)\n",
    "age"
   ]
  },
  {
   "cell_type": "code",
   "execution_count": 15,
   "metadata": {
    "collapsed": false
   },
   "outputs": [
    {
     "name": "stdout",
     "output_type": "stream",
     "text": [
      "How old are you? 45\n"
     ]
    },
    {
     "data": {
      "text/plain": [
       "45"
      ]
     },
     "execution_count": 15,
     "metadata": {},
     "output_type": "execute_result"
    }
   ],
   "source": [
    "age = int(input(\"How old are you? \"))\n",
    "age\n",
    "\n"
   ]
  },
  {
   "cell_type": "markdown",
   "metadata": {},
   "source": [
    "4%3"
   ]
  },
  {
   "cell_type": "code",
   "execution_count": 16,
   "metadata": {
    "collapsed": false
   },
   "outputs": [
    {
     "data": {
      "text/plain": [
       "1"
      ]
     },
     "execution_count": 16,
     "metadata": {},
     "output_type": "execute_result"
    }
   ],
   "source": [
    "4%3"
   ]
  },
  {
   "cell_type": "code",
   "execution_count": 17,
   "metadata": {
    "collapsed": false
   },
   "outputs": [
    {
     "data": {
      "text/plain": [
       "1.3333333333333333"
      ]
     },
     "execution_count": 17,
     "metadata": {},
     "output_type": "execute_result"
    }
   ],
   "source": [
    "4/3"
   ]
  },
  {
   "cell_type": "code",
   "execution_count": 19,
   "metadata": {
    "collapsed": false
   },
   "outputs": [
    {
     "name": "stdout",
     "output_type": "stream",
     "text": [
      "Enter a number, and I'll tell you if it's even or odd: 45\n",
      "\n",
      "The number 45 is odd.\n"
     ]
    }
   ],
   "source": [
    "#even_or_odd.py\n",
    "number = input(\"Enter a number, and I'll tell you if it's even or odd: \")\n",
    "number = int(number)\n",
    "\n",
    "if number % 2 == 0:\n",
    "    print(\"\\nThe number \" + str(number) + \" is even.\")\n",
    "else:\n",
    "    print(\"\\nThe number \" + str(number) + \" is odd.\")\n",
    "    "
   ]
  },
  {
   "cell_type": "code",
   "execution_count": 23,
   "metadata": {
    "collapsed": false
   },
   "outputs": [
    {
     "name": "stdout",
     "output_type": "stream",
     "text": [
      "Please input a number: 1\n",
      "The number, 1 is not a multiple of 10.\n"
     ]
    }
   ],
   "source": [
    "#mutiples of 10\n",
    "number = int(input(\"Please input a number: \"))\n",
    "if number % 10 == 0:\n",
    "    print(\"The number, \" + str(number) + \" is a multiple of 10.\")\n",
    "else:\n",
    "    print(\"The number, \" + str(number)+ \" is not a multiple of 10.\")"
   ]
  },
  {
   "cell_type": "code",
   "execution_count": 27,
   "metadata": {
    "collapsed": false
   },
   "outputs": [
    {
     "name": "stdout",
     "output_type": "stream",
     "text": [
      "1\n",
      "2\n",
      "3\n",
      "4\n",
      "5\n"
     ]
    }
   ],
   "source": [
    "#counting.py\n",
    "current_number = 1\n",
    "while current_number <= 5:\n",
    "    print(current_number)\n",
    "    current_number += 1"
   ]
  },
  {
   "cell_type": "code",
   "execution_count": 3,
   "metadata": {
    "collapsed": false
   },
   "outputs": [
    {
     "name": "stdout",
     "output_type": "stream",
     "text": [
      "\n",
      "Tell me something, and I will repeat it back to you:\n",
      "Enter 'quit' to end the program. hello\n",
      "hello\n",
      "\n",
      "Tell me something, and I will repeat it back to you:\n",
      "Enter 'quit' to end the program. quit\n"
     ]
    }
   ],
   "source": [
    "prompt = \"\\nTell me something, and I will repeat it back to you:\"\n",
    "prompt += \"\\nEnter 'quit' to end the program. \"\n",
    "\n",
    "message = \"\" \n",
    "while message != 'quit':\n",
    "    message = input(prompt)\n",
    "    if message != 'quit':\n",
    "        print(message)"
   ]
  },
  {
   "cell_type": "code",
   "execution_count": 5,
   "metadata": {
    "collapsed": false
   },
   "outputs": [
    {
     "name": "stdout",
     "output_type": "stream",
     "text": [
      "\n",
      "Tell me something, and I will repeat it back to you:\n",
      "Enter 'quit' to end the program. hello\n",
      "hello\n",
      "\n",
      "Tell me something, and I will repeat it back to you:\n",
      "Enter 'quit' to end the program. quit\n"
     ]
    }
   ],
   "source": [
    "prompt = \"\\nTell me something, and I will repeat it back to you:\"\n",
    "prompt += \"\\nEnter 'quit' to end the program. \"\n",
    "\n",
    "active = True\n",
    "while active:\n",
    "    message = input(prompt)\n",
    "    \n",
    "    if message == 'quit':\n",
    "        active = False\n",
    "    else:\n",
    "        print(message)"
   ]
  },
  {
   "cell_type": "code",
   "execution_count": 7,
   "metadata": {
    "collapsed": false
   },
   "outputs": [
    {
     "name": "stdout",
     "output_type": "stream",
     "text": [
      "\n",
      "Please enter the name of a city you have visited: \n",
      "(Enter 'quit' when you are finished.)quit\n"
     ]
    }
   ],
   "source": [
    "#cities.py\n",
    "prompt = \"\\nPlease enter the name of a city you have visited: \"\n",
    "prompt += \"\\n(Enter 'quit' when you are finished.)\"\n",
    "\n",
    "while True:\n",
    "    city = input(prompt)\n",
    "    \n",
    "    if city == 'quit':\n",
    "        break\n",
    "    else:\n",
    "        print(\"I'd love to go to \" + city.title() + \"!\")"
   ]
  },
  {
   "cell_type": "code",
   "execution_count": 8,
   "metadata": {
    "collapsed": false
   },
   "outputs": [
    {
     "name": "stdout",
     "output_type": "stream",
     "text": [
      "1\n",
      "3\n",
      "5\n",
      "7\n",
      "9\n"
     ]
    }
   ],
   "source": [
    "#counting.py\n",
    "current_number = 0 \n",
    "while current_number < 10:\n",
    "    current_number += 1\n",
    "    if current_number % 2 == 0:\n",
    "        continue\n",
    "    print(current_number)"
   ]
  },
  {
   "cell_type": "code",
   "execution_count": 2,
   "metadata": {
    "collapsed": false
   },
   "outputs": [
    {
     "name": "stdout",
     "output_type": "stream",
     "text": [
      "Verifying user: Candace\n",
      "Verifying user: Brian\n",
      "Verifying user: Alice\n",
      "\n",
      "The following users have been confirmed:\n",
      "Candace\n",
      "Brian\n",
      "Alice\n"
     ]
    }
   ],
   "source": [
    "#confirmed_users.py\n",
    "#Start with users that need to be verified,\n",
    "#and an empty list to hold confirmed users.\n",
    "unconfirmed_users = ['alice','brian','candace']\n",
    "confirmed_users = []\n",
    "\n",
    "#verify each user until there are no more\n",
    "#unconfirmed users.\n",
    "\n",
    "#move each verified user into the list of confirmed users.\n",
    "while unconfirmed_users:\n",
    "    current_user = unconfirmed_users.pop()\n",
    "    \n",
    "    print(\"Verifying user: \" + current_user.title())\n",
    "    confirmed_users.append(current_user)\n",
    "#Display all confirmed users\n",
    "print(\"\\nThe following users have been confirmed:\")\n",
    "for confirmed_user in confirmed_users:\n",
    "    print(confirmed_user.title())\n",
    "    \n"
   ]
  },
  {
   "cell_type": "code",
   "execution_count": 4,
   "metadata": {
    "collapsed": false
   },
   "outputs": [
    {
     "name": "stdout",
     "output_type": "stream",
     "text": [
      "['dog', 'cat', 'dog', 'goldfish', 'cat', 'rabbit', 'cat']\n",
      "['dog', 'dog', 'goldfish', 'rabbit']\n"
     ]
    }
   ],
   "source": [
    "pets = ['dog','cat','dog','goldfish','cat','rabbit','cat']\n",
    "print(pets)\n",
    "\n",
    "while 'cat' in pets:\n",
    "    pets.remove('cat')\n",
    "\n",
    "print(pets)"
   ]
  },
  {
   "cell_type": "code",
   "execution_count": 8,
   "metadata": {
    "collapsed": false
   },
   "outputs": [
    {
     "name": "stdout",
     "output_type": "stream",
     "text": [
      "\n",
      "What is your name? stephen\n",
      "Which mountain would you like to climb someday? denali\n",
      "Would you like to let another person respond? (yes/no)yes\n",
      "\n",
      "What is your name? Jennifer\n",
      "Which mountain would you like to climb someday? Everest\n",
      "Would you like to let another person respond? (yes/no)meghan\n",
      "\n",
      "What is your name? sugar loaf\n",
      "Which mountain would you like to climb someday? sugar loaf\n",
      "Would you like to let another person respond? (yes/no)no\n",
      "\n",
      "---Poll Results---\n",
      "Stephen would like to climb Denali.\n",
      "Jennifer would like to climb Everest.\n",
      "Sugar Loaf would like to climb Sugar Loaf.\n"
     ]
    }
   ],
   "source": [
    "#mountain_poll.py\n",
    "\n",
    "responses = {}\n",
    "\n",
    "#Set a flag to indicate that polling is active.\n",
    "polling_active = True\n",
    "\n",
    "while polling_active:\n",
    "    #prompt for the person's name and response.\n",
    "    name = input(\"\\nWhat is your name? \")\n",
    "    response = input(\"Which mountain would you like to climb someday? \")\n",
    "    \n",
    "    #store the response in the dictionary:\n",
    "    responses[name] = response\n",
    "    \n",
    "    #Find out if anyone else is going to take the poll.\n",
    "    repeat = input(\"Would you like to let another person respond? (yes/no)\")\n",
    "    if repeat == 'no':\n",
    "        polling_active = False\n",
    "        \n",
    "#Polling is complete.  Show the results.\n",
    "print(\"\\n---Poll Results---\")\n",
    "for name, response in responses.items():\n",
    "    print(name.title() + \" would like to climb \" + response.title() + \".\")\n",
    "    "
   ]
  },
  {
   "cell_type": "code",
   "execution_count": 3,
   "metadata": {
    "collapsed": false
   },
   "outputs": [
    {
     "name": "stdout",
     "output_type": "stream",
     "text": [
      "[]\n",
      "What is your sandwich order today? ham\n",
      "Is that all? (y/n)n\n",
      "What is your sandwich order today? cheese\n",
      "Is that all? (y/n)n\n",
      "What is your sandwich order today? tuna\n",
      "Is that all? (y/n)y\n",
      "There are 3 sandwich orders\n",
      "['ham', 'cheese', 'tuna']\n",
      "\n",
      "Making a Sandwich!!!!!!!!!\n",
      "\n",
      "ham has been made!\n",
      "\n",
      "0\n",
      "\n",
      "Making a Sandwich!!!!!!!!!\n",
      "\n",
      "tuna has been made!\n",
      "\n",
      "1\n",
      "\n",
      "Making a Sandwich!!!!!!!!!\n"
     ]
    },
    {
     "ename": "IndexError",
     "evalue": "list index out of range",
     "output_type": "error",
     "traceback": [
      "\u001b[0;31m---------------------------------------------------------------------------\u001b[0m",
      "\u001b[0;31mIndexError\u001b[0m                                Traceback (most recent call last)",
      "\u001b[0;32m<ipython-input-3-f85d0ab740d4>\u001b[0m in \u001b[0;36m<module>\u001b[0;34m()\u001b[0m\n\u001b[1;32m     24\u001b[0m \u001b[1;32mwhile\u001b[0m \u001b[0msandwich_orders\u001b[0m\u001b[1;33m:\u001b[0m\u001b[1;33m\u001b[0m\u001b[0m\n\u001b[1;32m     25\u001b[0m     \u001b[0mprint\u001b[0m\u001b[1;33m(\u001b[0m\u001b[1;34m\"\\nMaking a Sandwich!!!!!!!!!\"\u001b[0m\u001b[1;33m)\u001b[0m\u001b[1;33m\u001b[0m\u001b[0m\n\u001b[0;32m---> 26\u001b[0;31m     \u001b[0mfinished_orders\u001b[0m\u001b[1;33m.\u001b[0m\u001b[0mappend\u001b[0m\u001b[1;33m(\u001b[0m\u001b[0msandwich_orders\u001b[0m\u001b[1;33m[\u001b[0m\u001b[0mmade_sandwiches\u001b[0m\u001b[1;33m]\u001b[0m\u001b[1;33m)\u001b[0m\u001b[1;33m\u001b[0m\u001b[0m\n\u001b[0m\u001b[1;32m     27\u001b[0m     \u001b[0mprint\u001b[0m\u001b[1;33m(\u001b[0m\u001b[1;34m\"\\n\"\u001b[0m \u001b[1;33m+\u001b[0m \u001b[0mfinished_orders\u001b[0m\u001b[1;33m[\u001b[0m\u001b[0mmade_sandwiches\u001b[0m\u001b[1;33m]\u001b[0m\u001b[1;33m+\u001b[0m \u001b[1;34m\" has been made!\"\u001b[0m\u001b[1;33m)\u001b[0m\u001b[1;33m\u001b[0m\u001b[0m\n\u001b[1;32m     28\u001b[0m     \u001b[0mprint\u001b[0m\u001b[1;33m(\u001b[0m\u001b[1;34m\"\\n\"\u001b[0m \u001b[1;33m+\u001b[0m \u001b[0mstr\u001b[0m\u001b[1;33m(\u001b[0m\u001b[0mmade_sandwiches\u001b[0m\u001b[1;33m)\u001b[0m\u001b[1;33m)\u001b[0m\u001b[1;33m\u001b[0m\u001b[0m\n",
      "\u001b[0;31mIndexError\u001b[0m: list index out of range"
     ]
    }
   ],
   "source": [
    "#exercise 7-8.9\n",
    "sandwich_orders = []\n",
    "finished_orders = []\n",
    "\n",
    "prompt = (\"What is your sandwich order today? \")\n",
    "prompt_2 =(\"Is that all? (y/n)\")\n",
    "#fill sandwich_orders with sandwhiches\n",
    "make_list = True\n",
    "\n",
    "print(sandwich_orders)\n",
    "while make_list:\n",
    "    sandwich_orders.append(input(prompt))\n",
    "    \n",
    "    if input(prompt_2) != 'n':\n",
    "        make_list = False\n",
    "        \n",
    "print(\"There are \" + str(len(sandwich_orders)) + \" sandwich orders\")\n",
    "\n",
    "print(sandwich_orders)\n",
    "\n",
    "#The sandwich_order list has been filled.  Now let's simulate us making the sandwich and taking the \n",
    "#sandwich from the orde list to the finished list\n",
    "made_sandwiches = 0\n",
    "while sandwich_orders:\n",
    "    print(\"\\nMaking a Sandwich!!!!!!!!!\")\n",
    "    finished_orders.append(sandwich_orders[made_sandwiches])\n",
    "    print(\"\\n\" + finished_orders[made_sandwiches]+ \" has been made!\")\n",
    "    print(\"\\n\" + str(made_sandwiches))\n",
    "    del sandwich_orders[made_sandwiches]\n",
    "    made_sandwiches += 1\n",
    "    \n",
    "\n",
    "\n"
   ]
  },
  {
   "cell_type": "code",
   "execution_count": 8,
   "metadata": {
    "collapsed": false
   },
   "outputs": [
    {
     "name": "stdout",
     "output_type": "stream",
     "text": [
      "Hello, Jesse!\n"
     ]
    }
   ],
   "source": [
    "#greeter.py\n",
    "def greet_user(username):\n",
    "    \"\"\"Display a simple greeting.\"\"\"\n",
    "    print(\"Hello, \" + username.title() + \"!\")\n",
    "    \n",
    "greet_user('jesse')"
   ]
  },
  {
   "cell_type": "code",
   "execution_count": 9,
   "metadata": {
    "collapsed": false
   },
   "outputs": [
    {
     "name": "stdout",
     "output_type": "stream",
     "text": [
      "\n",
      "I have a hamster.\n",
      "My hamster's name is Harry.\n"
     ]
    }
   ],
   "source": [
    "def describe_pet(animal_type, pet_name):\n",
    "    \"\"\"Display information about a pet.\"\"\"\n",
    "    print(\"\\nI have a \" + animal_type + \".\")\n",
    "    print(\"My \" + animal_type + \"'s name is \" + pet_name.title() + \".\")\n",
    "\n",
    "describe_pet(animal_type='hamster', pet_name='harry')"
   ]
  },
  {
   "cell_type": "code",
   "execution_count": 12,
   "metadata": {
    "collapsed": false
   },
   "outputs": [
    {
     "name": "stdout",
     "output_type": "stream",
     "text": [
      "\n",
      "The size of the shirt is Xl\n",
      "The message reads:\n",
      "Greetings to all Mankind!\n"
     ]
    }
   ],
   "source": [
    "#exercise 8-3\n",
    "def make_shirt(shirt_size,shirt_message):\n",
    "    \"\"\"Displays the size and message printed on T-shirt.\"\"\"\n",
    "    print(\"\\nThe size of the shirt is \" + shirt_size)\n",
    "    print(\"The message reads:\\n\" + shirt_message)\n",
    "    \n",
    "make_shirt('Xl',\"Greetings to all Mankind!\")"
   ]
  },
  {
   "cell_type": "code",
   "execution_count": 13,
   "metadata": {
    "collapsed": false
   },
   "outputs": [
    {
     "name": "stdout",
     "output_type": "stream",
     "text": [
      "Jimi Hendrix\n"
     ]
    }
   ],
   "source": [
    "def get_formatted_name(first_name,last_name):\n",
    "    \"\"\"Returns a full name, neatly formated.\"\"\"\n",
    "    full_name = first_name + ' ' + last_name\n",
    "    return full_name.title()\n",
    "\n",
    "musician = get_formatted_name('jimi','hendrix')\n",
    "print(musician)"
   ]
  },
  {
   "cell_type": "code",
   "execution_count": 16,
   "metadata": {
    "collapsed": false
   },
   "outputs": [
    {
     "name": "stdout",
     "output_type": "stream",
     "text": [
      "Jimi Hendrix\n",
      "John Lee Hoooker\n"
     ]
    }
   ],
   "source": [
    " def get_formatted_name(first_name, last_name, middle_name=''):\n",
    "    \"\"\"Returns a full name, neatly formated.  Middle name is optional.\"\"\"\n",
    "    if middle_name:\n",
    "        full_name = first_name + ' ' + middle_name + ' ' + last_name\n",
    "    else:\n",
    "        full_name = first_name + ' ' + last_name\n",
    "    return full_name.title()\n",
    "\n",
    "musician = get_formatted_name('jimi','hendrix')\n",
    "print(musician)\n",
    "\n",
    "musician = get_formatted_name('john','hoooker','lee')\n",
    "print(musician)"
   ]
  },
  {
   "cell_type": "code",
   "execution_count": 17,
   "metadata": {
    "collapsed": false
   },
   "outputs": [
    {
     "name": "stdout",
     "output_type": "stream",
     "text": [
      "{'first': 'jimi', 'last': 'hendrix'}\n"
     ]
    }
   ],
   "source": [
    "def build_person(first_name, last_name):\n",
    "    \"\"\"Return a dictionary of information about a person.\"\"\"\n",
    "    person = {'first':first_name, 'last':last_name}\n",
    "    return person\n",
    "\n",
    "musician = build_person('jimi', 'hendrix')\n",
    "print(musician)"
   ]
  },
  {
   "cell_type": "code",
   "execution_count": 20,
   "metadata": {
    "collapsed": false
   },
   "outputs": [
    {
     "name": "stdout",
     "output_type": "stream",
     "text": [
      "Hello, Hannah!\n",
      "Hello, Ty!\n",
      "Hello, Margot!\n"
     ]
    }
   ],
   "source": [
    "#greet_users.py\n",
    "usernames=['hannah','ty','margot']\n",
    "greet_users(usernames)\n",
    "\n",
    "def greet_users(names):\n",
    "    \"\"\"Print a simple greeting to each user in the list\"\"\"\n",
    "    for name in names:\n",
    "        msg = \"Hello, \" + name.title() + \"!\"\n",
    "        print(msg)"
   ]
  },
  {
   "cell_type": "code",
   "execution_count": 21,
   "metadata": {
    "collapsed": false
   },
   "outputs": [
    {
     "name": "stdout",
     "output_type": "stream",
     "text": [
      "('pepperoni',)\n",
      "('mushrooms', 'green peppers', 'extra cheese')\n"
     ]
    }
   ],
   "source": [
    "def make_pizza(*toppings):\n",
    "    \"\"\"Print the list of toppings that have been requested.\"\"\"\n",
    "    print(toppings)\n",
    "\n",
    "make_pizza('pepperoni')\n",
    "make_pizza('mushrooms', 'green peppers', 'extra cheese')"
   ]
  },
  {
   "cell_type": "code",
   "execution_count": 22,
   "metadata": {
    "collapsed": false
   },
   "outputs": [
    {
     "name": "stdout",
     "output_type": "stream",
     "text": [
      "\n",
      "Making a 16-inch pizza with the following toppings:\n",
      "-pepproni\n",
      "\n",
      "Making a 12-inch pizza with the following toppings:\n",
      "-mushrooms\n",
      "-green peppers\n",
      "-extra cheese\n",
      "\n",
      "Making a pepperoni-inch pizza with the following toppings:\n",
      "\n",
      "Making a mushrooms-inch pizza with the following toppings:\n",
      "-green peppers\n",
      "-extra cheese\n"
     ]
    }
   ],
   "source": [
    "def make_pizza(size, *toppings):\n",
    "    \"\"\"Summarize the pizza we are about to make.\"\"\"\n",
    "    print(\"\\nMaking a \" + str(size) + \"-inch pizza with the following toppings:\")\n",
    "    for topping in toppings:\n",
    "        print(\"-\" + topping)\n",
    "        \n",
    "make_pizza(16, 'pepproni')\n",
    "make_pizza(12, 'mushrooms','green peppers', 'extra cheese')\n",
    "\n",
    "make_pizza('pepperoni')\n",
    "make_pizza('mushrooms', 'green peppers', 'extra cheese')"
   ]
  },
  {
   "cell_type": "code",
   "execution_count": 29,
   "metadata": {
    "collapsed": false
   },
   "outputs": [
    {
     "name": "stdout",
     "output_type": "stream",
     "text": [
      "{'first_name': 'albert', 'last_name': 'einstein', 'location': 'princeton', 'field': 'physics'}\n"
     ]
    }
   ],
   "source": [
    "def build_profile(first, last, **user_info):\n",
    "    \"\"\"Build a dictionary containing everything we know about a user.\"\"\"\n",
    "    profile = {}\n",
    "    profile['first_name'] = first\n",
    "    profile['last_name'] = last\n",
    "    for key, value in user_info.items():\n",
    "        profile[key] = value\n",
    "    return profile\n",
    "\n",
    "user_profile = build_profile('albert','einstein',location='princeton',field='physics')\n",
    "\n",
    "print(user_profile)\n",
    "\n",
    "#This is not working for some reason.  "
   ]
  },
  {
   "cell_type": "code",
   "execution_count": 37,
   "metadata": {
    "collapsed": false
   },
   "outputs": [
    {
     "name": "stdout",
     "output_type": "stream",
     "text": [
      "{'car_make': 'subaru', 'car_model': 'outback', 'car_color': 'blue', 'tow_package': True}\n",
      "{'car_make': 'subaru', 'car_model': 'outback', 'car_color': 'blue'}\n",
      "{'car_make': 'volvo', 'car_model': 's40', 'car_color': 'red', 'sports_package': True}\n"
     ]
    }
   ],
   "source": [
    "#Exercise 8-14\n",
    "def make_car(make, model, color, **options):\n",
    "    \"\"\"Build a dictionary containing everything we know about a car.\"\"\"\n",
    "    profile={}\n",
    "    profile['car_make'] = make\n",
    "    profile['car_model'] = model\n",
    "    profile['car_color'] = color\n",
    "    for key, value in options.items():\n",
    "        profile[key] = value\n",
    "    return profile\n",
    "\n",
    "car = make_car('subaru','outback','blue',tow_package=True)\n",
    "print(car)\n",
    "\n",
    "car = make_car('subaru','outback','blue')\n",
    "print(car)\n",
    "\n",
    "car = make_car('volvo','s40','red',sports_package=True)\n",
    "print(car)"
   ]
  },
  {
   "cell_type": "code",
   "execution_count": 40,
   "metadata": {
    "collapsed": false
   },
   "outputs": [
    {
     "name": "stdout",
     "output_type": "stream",
     "text": [
      "\n",
      "Making a 16-inch pizza with the following toppings:\n",
      "-pepperoni\n",
      "\n",
      "Making a 12-inch pizza with the following toppings:\n",
      "-mushrooms\n",
      "-green peppers\n",
      "-extra cheese\n"
     ]
    }
   ],
   "source": [
    "import pizza as pz\n",
    "\n",
    "pz.make_pizza(16,'pepperoni')\n",
    "pz.make_pizza(12,'mushrooms','green peppers', 'extra cheese')"
   ]
  },
  {
   "cell_type": "code",
   "execution_count": 42,
   "metadata": {
    "collapsed": false
   },
   "outputs": [
    {
     "name": "stdout",
     "output_type": "stream",
     "text": [
      "\n",
      "Making a 16-inch pizza with the following toppings:\n",
      "-pepperoni\n",
      "\n",
      "Making a 12-inch pizza with the following toppings:\n",
      "-mushrooms\n",
      "-green peppers\n",
      "-extra cheese\n"
     ]
    }
   ],
   "source": [
    "from pizza import make_pizza\n",
    "pz.make_pizza(16,'pepperoni')\n",
    "pz.make_pizza(12,'mushrooms','green peppers', 'extra cheese')\n"
   ]
  },
  {
   "cell_type": "code",
   "execution_count": 43,
   "metadata": {
    "collapsed": true
   },
   "outputs": [],
   "source": [
    "#makingan object from a class is called instantiation, and you work with\n",
    "#instances of a class."
   ]
  },
  {
   "cell_type": "code",
   "execution_count": 53,
   "metadata": {
    "collapsed": false
   },
   "outputs": [
    {
     "name": "stdout",
     "output_type": "stream",
     "text": [
      "My dog's name is Willie.\n",
      "My dog's age is 6 years old.\n",
      "Willie is now sitting.\n",
      "Willie rolled over.\n"
     ]
    }
   ],
   "source": [
    "#dog.py\n",
    "#in python classes are styled with a capital letter.\n",
    "class Dog():\n",
    "    \"\"\"A simple attempt to model a dog.\"\"\"\n",
    "#a function that is part of a class is called a method.\n",
    "    def __init__(self, name, age):\n",
    "        \"\"\"Initialize name and age attributes.\"\"\"\n",
    "        self.name = name\n",
    "        self.age = age\n",
    "#Any variable prefixed with self. is available to every method in the class.\n",
    "        \n",
    "    def sit(self):\n",
    "        \"\"\"Simulate a dog sitting in response to a command.\"\"\"\n",
    "        print(self.name.title() + \" is now sitting.\")\n",
    "        \n",
    "    def roll_over(self):\n",
    "        \"\"\"Simulate a dog rolling over in response to a command.\"\"\"\n",
    "        print(self.name.title() + \" rolled over.\")\n",
    "        \n",
    "my_dog = Dog('willie',6)\n",
    "\n",
    "print(\"My dog's name is \" + my_dog.name.title() + \".\" )\n",
    "print(\"My dog's age is \" + str(my_dog.age) + \" years old.\")\n",
    "\n",
    "my_dog.sit()\n",
    "my_dog.roll_over()\n",
    "\n",
    "your_dog = Dog('lucy',8)"
   ]
  },
  {
   "cell_type": "code",
   "execution_count": 63,
   "metadata": {
    "collapsed": false
   },
   "outputs": [
    {
     "name": "stdout",
     "output_type": "stream",
     "text": [
      "This restaurant, Cunnettoes is a/an Italian-style restaurant.\n",
      "Cunnettoes is now open.\n"
     ]
    }
   ],
   "source": [
    "#9-1 Restaurant\n",
    "class Restaurant():\n",
    "    \"Simple class to simulate a restaurant.\"\n",
    "    def __init__(self,restaurant_name, cuisine_type):\n",
    "        \"\"\"Initialize name and type\"\"\"\n",
    "        self.restaurant_name = restaurant_name\n",
    "        self.cuisine_type = cuisine_type\n",
    "        \n",
    "    def describe_restaurant(self):\n",
    "        \"\"\"method to print the name and type of restaurant.\"\"\"\n",
    "        print(\"This restaurant, \" + self.restaurant_name.title() + \" is a/an \" + self.cuisine_type + \"-style restaurant.\")\n",
    "        \n",
    "    def open_restaurant(self):\n",
    "        \"\"\"method to simulate the opening of a restaurant\"\"\"\n",
    "        print(self.restaurant_name.title() + \" is now open.\")\n",
    "        \n",
    "cunnettoes = Restaurant('cunnettoes', 'Italian')\n",
    "\n",
    "cunnettoes.describe_restaurant()\n",
    "\n",
    "cunnettoes.open_restaurant()\n",
    "        \n"
   ]
  },
  {
   "cell_type": "code",
   "execution_count": 12,
   "metadata": {
    "collapsed": false
   },
   "outputs": [
    {
     "name": "stdout",
     "output_type": "stream",
     "text": [
      "\n",
      "User: Jimmy Doolittle\n",
      "\n",
      "Age: 45\n",
      "\n",
      "Height: 6 feet\n",
      "\n",
      "Race: white\n",
      "Hello, Jimmy Doolittle\n"
     ]
    }
   ],
   "source": [
    "#9-3 Users.py\n",
    "#a class with multiple attributes called User\n",
    "class User():\n",
    "    def __init__(self, name, age, height, race):\n",
    "        \"\"\"initialize the class\"\"\"\n",
    "        self.name = name\n",
    "        self.age = age\n",
    "        self.height = height\n",
    "        self.race = race\n",
    "        \n",
    "    def describe_user(self):\n",
    "        \"\"\"prints a summary of the user's information.\"\"\"\n",
    "        print(\"\\nUser: \" + self.name.title())\n",
    "        print(\"\\nAge: \" + str(self.age))\n",
    "        print(\"\\nHeight: \" + self.height)\n",
    "        print(\"\\nRace: \" + self.race)\n",
    "        \n",
    "    def greet_user(self):\n",
    "        \"\"\"method to print personalized greeting to specific user\"\"\"\n",
    "        print(\"Hello, \" + self.name.title())\n",
    "        \n",
    "jimmy = User('jimmy doolittle', 45, '6 feet', 'white')\n",
    "stephen = User('stephen brown', 45, '5 feet 9 inches', 'white' )\n",
    "jen = User('jennifer brown', 45, '6 feet 1 inches', 'white')\n",
    "\n",
    "jimmy.describe_user()\n",
    "jimmy.greet_user()\n",
    "#Problemsthat I had: didn't call the class correctly (used def instead of class)\n",
    "#still not really confident how the self. and __init__ works.\n"
   ]
  },
  {
   "cell_type": "code",
   "execution_count": null,
   "metadata": {
    "collapsed": true
   },
   "outputs": [],
   "source": [
    "#car.py\n",
    "class Car():\n",
    "    \"\"\"A simple attempt to represent a car.\"\"\"\n",
    "    def __init__(self, make, model, year)\n",
    "    \"\"\"Initialize attributes to describe a car.\"\"\"\n",
    "    "
   ]
  }
 ],
 "metadata": {
  "kernelspec": {
   "display_name": "Python 3",
   "language": "python",
   "name": "python3"
  },
  "language_info": {
   "codemirror_mode": {
    "name": "ipython",
    "version": 3
   },
   "file_extension": ".py",
   "mimetype": "text/x-python",
   "name": "python",
   "nbconvert_exporter": "python",
   "pygments_lexer": "ipython3",
   "version": "3.6.0"
  }
 },
 "nbformat": 4,
 "nbformat_minor": 2
}
